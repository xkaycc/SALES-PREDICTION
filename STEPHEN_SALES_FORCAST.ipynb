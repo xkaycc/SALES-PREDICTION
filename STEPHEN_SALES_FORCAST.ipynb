{
  "nbformat": 4,
  "nbformat_minor": 0,
  "metadata": {
    "colab": {
      "provenance": []
    },
    "kernelspec": {
      "name": "python3",
      "display_name": "Python 3"
    },
    "language_info": {
      "name": "python"
    }
  },
  "cells": [
    {
      "cell_type": "code",
      "execution_count": null,
      "metadata": {
        "id": "DXs1JXrNLAo5"
      },
      "outputs": [],
      "source": []
    },
    {
      "cell_type": "markdown",
      "source": [
        "#**Data Science Salary Insights**"
      ],
      "metadata": {
        "id": "FSrmg6TcMC8u"
      }
    },
    {
      "cell_type": "markdown",
      "source": [
        "STEPHEN AKOMOLAFE"
      ],
      "metadata": {
        "id": "le2xM3L2MNtB"
      }
    },
    {
      "cell_type": "code",
      "source": [],
      "metadata": {
        "id": "3Egv8AcnQ3ur"
      },
      "execution_count": null,
      "outputs": []
    },
    {
      "cell_type": "markdown",
      "source": [
        "##**Loading Data**"
      ],
      "metadata": {
        "id": "d4oC4JnZNaBC"
      }
    },
    {
      "cell_type": "code",
      "source": [],
      "metadata": {
        "id": "HtDbhEoENsY-"
      },
      "execution_count": null,
      "outputs": []
    },
    {
      "cell_type": "markdown",
      "source": [
        "##**Data Cleaning**"
      ],
      "metadata": {
        "id": "7-8dmcsJNtMw"
      }
    },
    {
      "cell_type": "code",
      "source": [],
      "metadata": {
        "id": "dN7LMEpMN4Pd"
      },
      "execution_count": null,
      "outputs": []
    },
    {
      "cell_type": "markdown",
      "source": [
        "##**Exploratory Visuals**"
      ],
      "metadata": {
        "id": "-kIL5BrtN75A"
      }
    },
    {
      "cell_type": "code",
      "source": [],
      "metadata": {
        "id": "oKn3PlmjOH1w"
      },
      "execution_count": null,
      "outputs": []
    },
    {
      "cell_type": "markdown",
      "source": [
        "##**Explanatory Visuals**"
      ],
      "metadata": {
        "id": "EO012zycOJvw"
      }
    },
    {
      "cell_type": "code",
      "source": [],
      "metadata": {
        "id": "ld6-jypTOT20"
      },
      "execution_count": null,
      "outputs": []
    }
  ]
}