{
  "cells": [
    {
      "cell_type": "markdown",
      "metadata": {
        "id": "view-in-github",
        "colab_type": "text"
      },
      "source": [
        "<a href=\"https://colab.research.google.com/github/xkaycc/SALES-PREDICTION/blob/main/Project_2.ipynb\" target=\"_parent\"><img src=\"https://colab.research.google.com/assets/colab-badge.svg\" alt=\"Open In Colab\"/></a>"
      ]
    },
    {
      "cell_type": "markdown",
      "metadata": {
        "id": "JzOXD-_-RA7F"
      },
      "source": [
        "## **Project 2**"
      ]
    },
    {
      "cell_type": "markdown",
      "metadata": {
        "id": "8VLprEMYRA7K"
      },
      "source": [
        "### **Task**\n",
        "- propose two possible datasets\n",
        "- choose your first choice data set, and a backup data set \n",
        "\n",
        "**First and second choice: dataset 1&2**\n",
        "\n",
        "1. Source of data\n",
        "\n",
        "2. Brief description of data\n",
        "\n",
        "3. What is the target?\n",
        "\n",
        "4. What does one row represent? (A person?  A business?  An event? A product?)\n",
        "\n",
        "5. Is this a classification or regression problem?\n",
        "\n",
        "6. How many features does the data have?\n",
        "\n",
        "7. How many rows are in the dataset?\n",
        "\n",
        "8. What, if any, challenges do you foresee in cleaning, exploring, or modeling with this dataset?"
      ]
    },
    {
      "cell_type": "markdown",
      "metadata": {
        "id": "fqVcnVdQRA7L"
      },
      "source": [
        "## **Dataset 1**\n",
        "\n",
        "**This dataset is titled medical cost insurance data and I will be using it for regression analysis** "
      ]
    },
    {
      "cell_type": "code",
      "execution_count": null,
      "metadata": {
        "id": "mIcY_1r-RA7M"
      },
      "outputs": [],
      "source": [
        "##Import libraries\n",
        "import pandas as pd\n",
        "import numpy as np\n",
        "import matplotlib.pyplot as plt"
      ]
    },
    {
      "cell_type": "code",
      "execution_count": null,
      "metadata": {
        "id": "PYLpTbA2RA7O"
      },
      "outputs": [],
      "source": [
        "#load dataset 1 (insurance data)\n",
        "df_1 = pd.read_csv(r\"C:\\Users\\USER\\Desktop\\crude oil.csv\")"
      ]
    },
    {
      "cell_type": "code",
      "execution_count": null,
      "metadata": {
        "id": "-v-5PMe3RA7P",
        "outputId": "93d5ff98-680d-4ff7-ef99-9fd6c45ec1dc"
      },
      "outputs": [
        {
          "data": {
            "text/html": [
              "<div>\n",
              "<style scoped>\n",
              "    .dataframe tbody tr th:only-of-type {\n",
              "        vertical-align: middle;\n",
              "    }\n",
              "\n",
              "    .dataframe tbody tr th {\n",
              "        vertical-align: top;\n",
              "    }\n",
              "\n",
              "    .dataframe thead th {\n",
              "        text-align: right;\n",
              "    }\n",
              "</style>\n",
              "<table border=\"1\" class=\"dataframe\">\n",
              "  <thead>\n",
              "    <tr style=\"text-align: right;\">\n",
              "      <th></th>\n",
              "      <th>ID</th>\n",
              "      <th>time</th>\n",
              "      <th>generation biomass</th>\n",
              "      <th>generation fossil brown coal/lignite</th>\n",
              "      <th>generation fossil coal-derived gas</th>\n",
              "      <th>generation fossil gas</th>\n",
              "      <th>generation fossil hard coal</th>\n",
              "      <th>generation fossil oil</th>\n",
              "      <th>generation fossil oil shale</th>\n",
              "      <th>generation fossil peat</th>\n",
              "      <th>...</th>\n",
              "      <th>generation waste</th>\n",
              "      <th>generation wind offshore</th>\n",
              "      <th>generation wind onshore</th>\n",
              "      <th>forecast solar day ahead</th>\n",
              "      <th>forecast wind offshore eday ahead</th>\n",
              "      <th>forecast wind onshore day ahead</th>\n",
              "      <th>total load forecast</th>\n",
              "      <th>total load actual</th>\n",
              "      <th>price day ahead</th>\n",
              "      <th>price actual</th>\n",
              "    </tr>\n",
              "  </thead>\n",
              "  <tbody>\n",
              "    <tr>\n",
              "      <th>0</th>\n",
              "      <td>ID_000000</td>\n",
              "      <td>2019-01-01 00:00:00</td>\n",
              "      <td>447.0</td>\n",
              "      <td>329.0</td>\n",
              "      <td>0.0</td>\n",
              "      <td>4844.0</td>\n",
              "      <td>4821.0</td>\n",
              "      <td>162.0</td>\n",
              "      <td>0.0</td>\n",
              "      <td>0.0</td>\n",
              "      <td>...</td>\n",
              "      <td>196.0</td>\n",
              "      <td>0.0</td>\n",
              "      <td>6378.0</td>\n",
              "      <td>17.0</td>\n",
              "      <td>NaN</td>\n",
              "      <td>6436.0</td>\n",
              "      <td>26118.0</td>\n",
              "      <td>25385.0</td>\n",
              "      <td>5010.0</td>\n",
              "      <td>6541.0</td>\n",
              "    </tr>\n",
              "    <tr>\n",
              "      <th>1</th>\n",
              "      <td>ID_000001</td>\n",
              "      <td>2019-01-01 01:00:00</td>\n",
              "      <td>449.0</td>\n",
              "      <td>328.0</td>\n",
              "      <td>0.0</td>\n",
              "      <td>5196.0</td>\n",
              "      <td>4755.0</td>\n",
              "      <td>158.0</td>\n",
              "      <td>0.0</td>\n",
              "      <td>0.0</td>\n",
              "      <td>...</td>\n",
              "      <td>195.0</td>\n",
              "      <td>0.0</td>\n",
              "      <td>5890.0</td>\n",
              "      <td>16.0</td>\n",
              "      <td>NaN</td>\n",
              "      <td>5856.0</td>\n",
              "      <td>24934.0</td>\n",
              "      <td>24382.0</td>\n",
              "      <td>4810.0</td>\n",
              "      <td>6492.0</td>\n",
              "    </tr>\n",
              "    <tr>\n",
              "      <th>2</th>\n",
              "      <td>ID_000002</td>\n",
              "      <td>2019-01-01 02:00:00</td>\n",
              "      <td>448.0</td>\n",
              "      <td>323.0</td>\n",
              "      <td>0.0</td>\n",
              "      <td>4857.0</td>\n",
              "      <td>4581.0</td>\n",
              "      <td>157.0</td>\n",
              "      <td>0.0</td>\n",
              "      <td>0.0</td>\n",
              "      <td>...</td>\n",
              "      <td>196.0</td>\n",
              "      <td>0.0</td>\n",
              "      <td>5461.0</td>\n",
              "      <td>8.0</td>\n",
              "      <td>NaN</td>\n",
              "      <td>5454.0</td>\n",
              "      <td>23515.0</td>\n",
              "      <td>22734.0</td>\n",
              "      <td>4733.0</td>\n",
              "      <td>6448.0</td>\n",
              "    </tr>\n",
              "    <tr>\n",
              "      <th>3</th>\n",
              "      <td>ID_000003</td>\n",
              "      <td>2019-01-01 03:00:00</td>\n",
              "      <td>438.0</td>\n",
              "      <td>254.0</td>\n",
              "      <td>0.0</td>\n",
              "      <td>4314.0</td>\n",
              "      <td>4131.0</td>\n",
              "      <td>160.0</td>\n",
              "      <td>0.0</td>\n",
              "      <td>0.0</td>\n",
              "      <td>...</td>\n",
              "      <td>191.0</td>\n",
              "      <td>0.0</td>\n",
              "      <td>5238.0</td>\n",
              "      <td>2.0</td>\n",
              "      <td>NaN</td>\n",
              "      <td>5151.0</td>\n",
              "      <td>22642.0</td>\n",
              "      <td>21286.0</td>\n",
              "      <td>4227.0</td>\n",
              "      <td>5932.0</td>\n",
              "    </tr>\n",
              "    <tr>\n",
              "      <th>4</th>\n",
              "      <td>ID_000004</td>\n",
              "      <td>2019-01-01 04:00:00</td>\n",
              "      <td>428.0</td>\n",
              "      <td>187.0</td>\n",
              "      <td>0.0</td>\n",
              "      <td>4130.0</td>\n",
              "      <td>3840.0</td>\n",
              "      <td>156.0</td>\n",
              "      <td>0.0</td>\n",
              "      <td>0.0</td>\n",
              "      <td>...</td>\n",
              "      <td>189.0</td>\n",
              "      <td>0.0</td>\n",
              "      <td>4935.0</td>\n",
              "      <td>9.0</td>\n",
              "      <td>NaN</td>\n",
              "      <td>4861.0</td>\n",
              "      <td>21785.0</td>\n",
              "      <td>20264.0</td>\n",
              "      <td>3841.0</td>\n",
              "      <td>5604.0</td>\n",
              "    </tr>\n",
              "  </tbody>\n",
              "</table>\n",
              "<p>5 rows × 30 columns</p>\n",
              "</div>"
            ],
            "text/plain": [
              "          ID                 time  generation biomass  \\\n",
              "0  ID_000000  2019-01-01 00:00:00               447.0   \n",
              "1  ID_000001  2019-01-01 01:00:00               449.0   \n",
              "2  ID_000002  2019-01-01 02:00:00               448.0   \n",
              "3  ID_000003  2019-01-01 03:00:00               438.0   \n",
              "4  ID_000004  2019-01-01 04:00:00               428.0   \n",
              "\n",
              "   generation fossil brown coal/lignite  generation fossil coal-derived gas  \\\n",
              "0                                 329.0                                 0.0   \n",
              "1                                 328.0                                 0.0   \n",
              "2                                 323.0                                 0.0   \n",
              "3                                 254.0                                 0.0   \n",
              "4                                 187.0                                 0.0   \n",
              "\n",
              "   generation fossil gas  generation fossil hard coal  generation fossil oil  \\\n",
              "0                 4844.0                       4821.0                  162.0   \n",
              "1                 5196.0                       4755.0                  158.0   \n",
              "2                 4857.0                       4581.0                  157.0   \n",
              "3                 4314.0                       4131.0                  160.0   \n",
              "4                 4130.0                       3840.0                  156.0   \n",
              "\n",
              "   generation fossil oil shale  generation fossil peat  ...  generation waste  \\\n",
              "0                          0.0                     0.0  ...             196.0   \n",
              "1                          0.0                     0.0  ...             195.0   \n",
              "2                          0.0                     0.0  ...             196.0   \n",
              "3                          0.0                     0.0  ...             191.0   \n",
              "4                          0.0                     0.0  ...             189.0   \n",
              "\n",
              "   generation wind offshore  generation wind onshore  \\\n",
              "0                       0.0                   6378.0   \n",
              "1                       0.0                   5890.0   \n",
              "2                       0.0                   5461.0   \n",
              "3                       0.0                   5238.0   \n",
              "4                       0.0                   4935.0   \n",
              "\n",
              "   forecast solar day ahead  forecast wind offshore eday ahead  \\\n",
              "0                      17.0                                NaN   \n",
              "1                      16.0                                NaN   \n",
              "2                       8.0                                NaN   \n",
              "3                       2.0                                NaN   \n",
              "4                       9.0                                NaN   \n",
              "\n",
              "   forecast wind onshore day ahead  total load forecast  total load actual  \\\n",
              "0                           6436.0              26118.0            25385.0   \n",
              "1                           5856.0              24934.0            24382.0   \n",
              "2                           5454.0              23515.0            22734.0   \n",
              "3                           5151.0              22642.0            21286.0   \n",
              "4                           4861.0              21785.0            20264.0   \n",
              "\n",
              "   price day ahead  price actual  \n",
              "0           5010.0        6541.0  \n",
              "1           4810.0        6492.0  \n",
              "2           4733.0        6448.0  \n",
              "3           4227.0        5932.0  \n",
              "4           3841.0        5604.0  \n",
              "\n",
              "[5 rows x 30 columns]"
            ]
          },
          "execution_count": 3,
          "metadata": {},
          "output_type": "execute_result"
        }
      ],
      "source": [
        "#check first 5 rows of df_1\n",
        "df_1.head()"
      ]
    },
    {
      "cell_type": "code",
      "execution_count": null,
      "metadata": {
        "id": "rAt1b_t3RA7Q",
        "outputId": "b29a4c1a-2d02-463e-d2ff-21463a560e4e"
      },
      "outputs": [
        {
          "name": "stdout",
          "output_type": "stream",
          "text": [
            " There are 27500 rows and 30 columns\n"
          ]
        }
      ],
      "source": [
        "#check the shape of df_1\n",
        "df_1.shape\n",
        "print (f' There are {df_1.shape[0]} rows and {df_1.shape[1]} columns')"
      ]
    },
    {
      "cell_type": "markdown",
      "metadata": {
        "id": "gd3fKEf1RA7R"
      },
      "source": [
        "## **Source of the Dataset**"
      ]
    },
    {
      "cell_type": "markdown",
      "metadata": {
        "id": "sGAO-hw1RA7S"
      },
      "source": [
        "**This dataset was gotten from Zindi Africa site**"
      ]
    },
    {
      "cell_type": "markdown",
      "metadata": {
        "id": "viVJ1KBNRA7S"
      },
      "source": [
        "## **Brief description of data**"
      ]
    },
    {
      "cell_type": "markdown",
      "metadata": {
        "id": "tCCLBoT0RA7S"
      },
      "source": [
        "**This dataset is having the data of 27K+ crude oil and can we accurately predict price actual?**\n",
        "\n",
        "- Dataset Walkthrough\n",
        "- Understanding Dataset Hierarchy\n",
        "- Data Preprocessing\n",
        "- Exploratory Data Analysis\n",
        "- Data Visualization\n",
        "- Making Recommendation System"
      ]
    },
    {
      "cell_type": "markdown",
      "metadata": {
        "id": "FD_lEuxtRA7T"
      },
      "source": [
        "## **What is the target?**"
      ]
    },
    {
      "cell_type": "markdown",
      "metadata": {
        "id": "6R41WGOgRA7T"
      },
      "source": [
        "- price actual"
      ]
    },
    {
      "cell_type": "markdown",
      "metadata": {
        "id": "stQZ7RcSRA7U"
      },
      "source": [
        "## **What does one row represent?**"
      ]
    },
    {
      "cell_type": "markdown",
      "metadata": {
        "id": "6tATV2YBRA7U"
      },
      "source": [
        "- Each row represent a product"
      ]
    },
    {
      "cell_type": "markdown",
      "metadata": {
        "id": "CbD9A-v8RA7V"
      },
      "source": [
        "## **Is this a classification or regression problem?**"
      ]
    },
    {
      "cell_type": "markdown",
      "metadata": {
        "id": "skfAzbWqRA7V"
      },
      "source": [
        "- Regression"
      ]
    },
    {
      "cell_type": "markdown",
      "metadata": {
        "id": "IyL3WE4NRA7W"
      },
      "source": [
        "## **How many features does the data have?**"
      ]
    },
    {
      "cell_type": "markdown",
      "metadata": {
        "id": "Zrw1KVuaRA7W"
      },
      "source": [
        "- There are 29 features aside the target variable"
      ]
    },
    {
      "cell_type": "markdown",
      "metadata": {
        "id": "4Wb91EcmRA7X"
      },
      "source": [
        "## **How many rows are in the dataset?**"
      ]
    },
    {
      "cell_type": "markdown",
      "metadata": {
        "id": "SHdkUDBpRA7X"
      },
      "source": [
        "- 27500 rows"
      ]
    },
    {
      "cell_type": "markdown",
      "metadata": {
        "id": "yJ0gUTqgRA7X"
      },
      "source": [
        "## **What, if any, challenges do you foresee in cleaning, exploring, or modeling with this dataset?**"
      ]
    },
    {
      "cell_type": "code",
      "execution_count": null,
      "metadata": {
        "id": "75j4qWkCRA7Y",
        "outputId": "93f1a059-1c16-495a-91f4-68c5115b19dc"
      },
      "outputs": [
        {
          "data": {
            "text/plain": [
              "ID                                                 0\n",
              "time                                               0\n",
              "generation biomass                                18\n",
              "generation fossil brown coal/lignite              17\n",
              "generation fossil coal-derived gas                17\n",
              "generation fossil gas                             17\n",
              "generation fossil hard coal                       17\n",
              "generation fossil oil                             18\n",
              "generation fossil oil shale                       17\n",
              "generation fossil peat                            17\n",
              "generation geothermal                             17\n",
              "generation hydro pumped storage aggregated     27500\n",
              "generation hydro pumped storage consumption       18\n",
              "generation hydro run-of-river and poundage        18\n",
              "generation hydro water reservoir                  17\n",
              "generation marine                                 18\n",
              "generation nuclear                                16\n",
              "generation other                                  17\n",
              "generation other renewable                        17\n",
              "generation solar                                  17\n",
              "generation waste                                  18\n",
              "generation wind offshore                          17\n",
              "generation wind onshore                           17\n",
              "forecast solar day ahead                           0\n",
              "forecast wind offshore eday ahead              27500\n",
              "forecast wind onshore day ahead                    0\n",
              "total load forecast                                0\n",
              "total load actual                                 34\n",
              "price day ahead                                    0\n",
              "price actual                                       0\n",
              "dtype: int64"
            ]
          },
          "execution_count": 5,
          "metadata": {},
          "output_type": "execute_result"
        }
      ],
      "source": [
        "## Check for missing values\n",
        "df_1.isnull().sum()"
      ]
    },
    {
      "cell_type": "markdown",
      "metadata": {
        "id": "y2MOxFI_RA7Y"
      },
      "source": [
        "- There alot of missing data"
      ]
    },
    {
      "cell_type": "code",
      "execution_count": null,
      "metadata": {
        "id": "WpsgPdHiRA7Z",
        "outputId": "57e835a4-4250-479f-cf33-2a3809fd6bd1"
      },
      "outputs": [
        {
          "data": {
            "text/html": [
              "<div>\n",
              "<style scoped>\n",
              "    .dataframe tbody tr th:only-of-type {\n",
              "        vertical-align: middle;\n",
              "    }\n",
              "\n",
              "    .dataframe tbody tr th {\n",
              "        vertical-align: top;\n",
              "    }\n",
              "\n",
              "    .dataframe thead th {\n",
              "        text-align: right;\n",
              "    }\n",
              "</style>\n",
              "<table border=\"1\" class=\"dataframe\">\n",
              "  <thead>\n",
              "    <tr style=\"text-align: right;\">\n",
              "      <th></th>\n",
              "      <th>generation biomass</th>\n",
              "      <th>generation fossil brown coal/lignite</th>\n",
              "      <th>generation fossil coal-derived gas</th>\n",
              "      <th>generation fossil gas</th>\n",
              "      <th>generation fossil hard coal</th>\n",
              "      <th>generation fossil oil</th>\n",
              "      <th>generation fossil oil shale</th>\n",
              "      <th>generation fossil peat</th>\n",
              "      <th>generation geothermal</th>\n",
              "      <th>generation hydro pumped storage aggregated</th>\n",
              "      <th>...</th>\n",
              "      <th>generation waste</th>\n",
              "      <th>generation wind offshore</th>\n",
              "      <th>generation wind onshore</th>\n",
              "      <th>forecast solar day ahead</th>\n",
              "      <th>forecast wind offshore eday ahead</th>\n",
              "      <th>forecast wind onshore day ahead</th>\n",
              "      <th>total load forecast</th>\n",
              "      <th>total load actual</th>\n",
              "      <th>price day ahead</th>\n",
              "      <th>price actual</th>\n",
              "    </tr>\n",
              "  </thead>\n",
              "  <tbody>\n",
              "    <tr>\n",
              "      <th>count</th>\n",
              "      <td>27482.00000</td>\n",
              "      <td>27483.000000</td>\n",
              "      <td>27483.0</td>\n",
              "      <td>27483.000000</td>\n",
              "      <td>27483.000000</td>\n",
              "      <td>27482.000000</td>\n",
              "      <td>27483.0</td>\n",
              "      <td>27483.0</td>\n",
              "      <td>27483.0</td>\n",
              "      <td>0.0</td>\n",
              "      <td>...</td>\n",
              "      <td>27482.000000</td>\n",
              "      <td>27483.0</td>\n",
              "      <td>27483.000000</td>\n",
              "      <td>27500.000000</td>\n",
              "      <td>0.0</td>\n",
              "      <td>27500.000000</td>\n",
              "      <td>27500.000000</td>\n",
              "      <td>27466.000000</td>\n",
              "      <td>27500.000000</td>\n",
              "      <td>27500.000000</td>\n",
              "    </tr>\n",
              "    <tr>\n",
              "      <th>mean</th>\n",
              "      <td>396.78022</td>\n",
              "      <td>476.247098</td>\n",
              "      <td>0.0</td>\n",
              "      <td>5555.281119</td>\n",
              "      <td>4411.479242</td>\n",
              "      <td>303.007059</td>\n",
              "      <td>0.0</td>\n",
              "      <td>0.0</td>\n",
              "      <td>0.0</td>\n",
              "      <td>NaN</td>\n",
              "      <td>...</td>\n",
              "      <td>261.802998</td>\n",
              "      <td>0.0</td>\n",
              "      <td>5469.452061</td>\n",
              "      <td>1439.292509</td>\n",
              "      <td>NaN</td>\n",
              "      <td>5469.240545</td>\n",
              "      <td>28639.632291</td>\n",
              "      <td>28621.754715</td>\n",
              "      <td>4764.150436</td>\n",
              "      <td>5610.960327</td>\n",
              "    </tr>\n",
              "    <tr>\n",
              "      <th>std</th>\n",
              "      <td>88.97453</td>\n",
              "      <td>363.187665</td>\n",
              "      <td>0.0</td>\n",
              "      <td>2252.850015</td>\n",
              "      <td>2015.548483</td>\n",
              "      <td>53.850784</td>\n",
              "      <td>0.0</td>\n",
              "      <td>0.0</td>\n",
              "      <td>0.0</td>\n",
              "      <td>NaN</td>\n",
              "      <td>...</td>\n",
              "      <td>51.346693</td>\n",
              "      <td>0.0</td>\n",
              "      <td>3194.413273</td>\n",
              "      <td>1677.600341</td>\n",
              "      <td>NaN</td>\n",
              "      <td>3179.516247</td>\n",
              "      <td>4600.880403</td>\n",
              "      <td>4577.680533</td>\n",
              "      <td>1432.890512</td>\n",
              "      <td>1424.710564</td>\n",
              "    </tr>\n",
              "    <tr>\n",
              "      <th>min</th>\n",
              "      <td>0.00000</td>\n",
              "      <td>0.000000</td>\n",
              "      <td>0.0</td>\n",
              "      <td>1518.000000</td>\n",
              "      <td>0.000000</td>\n",
              "      <td>0.000000</td>\n",
              "      <td>0.0</td>\n",
              "      <td>0.0</td>\n",
              "      <td>0.0</td>\n",
              "      <td>NaN</td>\n",
              "      <td>...</td>\n",
              "      <td>0.000000</td>\n",
              "      <td>0.0</td>\n",
              "      <td>0.000000</td>\n",
              "      <td>0.000000</td>\n",
              "      <td>NaN</td>\n",
              "      <td>237.000000</td>\n",
              "      <td>18105.000000</td>\n",
              "      <td>18041.000000</td>\n",
              "      <td>206.000000</td>\n",
              "      <td>933.000000</td>\n",
              "    </tr>\n",
              "    <tr>\n",
              "      <th>25%</th>\n",
              "      <td>340.00000</td>\n",
              "      <td>0.000000</td>\n",
              "      <td>0.0</td>\n",
              "      <td>4069.000000</td>\n",
              "      <td>2618.000000</td>\n",
              "      <td>267.000000</td>\n",
              "      <td>0.0</td>\n",
              "      <td>0.0</td>\n",
              "      <td>0.0</td>\n",
              "      <td>NaN</td>\n",
              "      <td>...</td>\n",
              "      <td>228.000000</td>\n",
              "      <td>0.0</td>\n",
              "      <td>2968.500000</td>\n",
              "      <td>63.000000</td>\n",
              "      <td>NaN</td>\n",
              "      <td>2976.000000</td>\n",
              "      <td>24712.750000</td>\n",
              "      <td>24724.000000</td>\n",
              "      <td>3994.000000</td>\n",
              "      <td>4783.000000</td>\n",
              "    </tr>\n",
              "    <tr>\n",
              "      <th>50%</th>\n",
              "      <td>376.00000</td>\n",
              "      <td>558.000000</td>\n",
              "      <td>0.0</td>\n",
              "      <td>4871.000000</td>\n",
              "      <td>4698.000000</td>\n",
              "      <td>303.000000</td>\n",
              "      <td>0.0</td>\n",
              "      <td>0.0</td>\n",
              "      <td>0.0</td>\n",
              "      <td>NaN</td>\n",
              "      <td>...</td>\n",
              "      <td>269.000000</td>\n",
              "      <td>0.0</td>\n",
              "      <td>4851.000000</td>\n",
              "      <td>580.000000</td>\n",
              "      <td>NaN</td>\n",
              "      <td>4856.000000</td>\n",
              "      <td>28848.500000</td>\n",
              "      <td>28839.500000</td>\n",
              "      <td>4835.000000</td>\n",
              "      <td>5610.500000</td>\n",
              "    </tr>\n",
              "    <tr>\n",
              "      <th>75%</th>\n",
              "      <td>475.00000</td>\n",
              "      <td>856.000000</td>\n",
              "      <td>0.0</td>\n",
              "      <td>6269.000000</td>\n",
              "      <td>6062.500000</td>\n",
              "      <td>336.000000</td>\n",
              "      <td>0.0</td>\n",
              "      <td>0.0</td>\n",
              "      <td>0.0</td>\n",
              "      <td>NaN</td>\n",
              "      <td>...</td>\n",
              "      <td>303.000000</td>\n",
              "      <td>0.0</td>\n",
              "      <td>7367.000000</td>\n",
              "      <td>2646.000000</td>\n",
              "      <td>NaN</td>\n",
              "      <td>7365.250000</td>\n",
              "      <td>32151.000000</td>\n",
              "      <td>32082.750000</td>\n",
              "      <td>5700.000000</td>\n",
              "      <td>6530.250000</td>\n",
              "    </tr>\n",
              "    <tr>\n",
              "      <th>max</th>\n",
              "      <td>592.00000</td>\n",
              "      <td>999.000000</td>\n",
              "      <td>0.0</td>\n",
              "      <td>20034.000000</td>\n",
              "      <td>8359.000000</td>\n",
              "      <td>449.000000</td>\n",
              "      <td>0.0</td>\n",
              "      <td>0.0</td>\n",
              "      <td>0.0</td>\n",
              "      <td>NaN</td>\n",
              "      <td>...</td>\n",
              "      <td>357.000000</td>\n",
              "      <td>0.0</td>\n",
              "      <td>17436.000000</td>\n",
              "      <td>5836.000000</td>\n",
              "      <td>NaN</td>\n",
              "      <td>17430.000000</td>\n",
              "      <td>41390.000000</td>\n",
              "      <td>41015.000000</td>\n",
              "      <td>10199.000000</td>\n",
              "      <td>11680.000000</td>\n",
              "    </tr>\n",
              "  </tbody>\n",
              "</table>\n",
              "<p>8 rows × 28 columns</p>\n",
              "</div>"
            ],
            "text/plain": [
              "       generation biomass  generation fossil brown coal/lignite  \\\n",
              "count         27482.00000                          27483.000000   \n",
              "mean            396.78022                            476.247098   \n",
              "std              88.97453                            363.187665   \n",
              "min               0.00000                              0.000000   \n",
              "25%             340.00000                              0.000000   \n",
              "50%             376.00000                            558.000000   \n",
              "75%             475.00000                            856.000000   \n",
              "max             592.00000                            999.000000   \n",
              "\n",
              "       generation fossil coal-derived gas  generation fossil gas  \\\n",
              "count                             27483.0           27483.000000   \n",
              "mean                                  0.0            5555.281119   \n",
              "std                                   0.0            2252.850015   \n",
              "min                                   0.0            1518.000000   \n",
              "25%                                   0.0            4069.000000   \n",
              "50%                                   0.0            4871.000000   \n",
              "75%                                   0.0            6269.000000   \n",
              "max                                   0.0           20034.000000   \n",
              "\n",
              "       generation fossil hard coal  generation fossil oil  \\\n",
              "count                 27483.000000           27482.000000   \n",
              "mean                   4411.479242             303.007059   \n",
              "std                    2015.548483              53.850784   \n",
              "min                       0.000000               0.000000   \n",
              "25%                    2618.000000             267.000000   \n",
              "50%                    4698.000000             303.000000   \n",
              "75%                    6062.500000             336.000000   \n",
              "max                    8359.000000             449.000000   \n",
              "\n",
              "       generation fossil oil shale  generation fossil peat  \\\n",
              "count                      27483.0                 27483.0   \n",
              "mean                           0.0                     0.0   \n",
              "std                            0.0                     0.0   \n",
              "min                            0.0                     0.0   \n",
              "25%                            0.0                     0.0   \n",
              "50%                            0.0                     0.0   \n",
              "75%                            0.0                     0.0   \n",
              "max                            0.0                     0.0   \n",
              "\n",
              "       generation geothermal  generation hydro pumped storage aggregated  ...  \\\n",
              "count                27483.0                                         0.0  ...   \n",
              "mean                     0.0                                         NaN  ...   \n",
              "std                      0.0                                         NaN  ...   \n",
              "min                      0.0                                         NaN  ...   \n",
              "25%                      0.0                                         NaN  ...   \n",
              "50%                      0.0                                         NaN  ...   \n",
              "75%                      0.0                                         NaN  ...   \n",
              "max                      0.0                                         NaN  ...   \n",
              "\n",
              "       generation waste  generation wind offshore  generation wind onshore  \\\n",
              "count      27482.000000                   27483.0             27483.000000   \n",
              "mean         261.802998                       0.0              5469.452061   \n",
              "std           51.346693                       0.0              3194.413273   \n",
              "min            0.000000                       0.0                 0.000000   \n",
              "25%          228.000000                       0.0              2968.500000   \n",
              "50%          269.000000                       0.0              4851.000000   \n",
              "75%          303.000000                       0.0              7367.000000   \n",
              "max          357.000000                       0.0             17436.000000   \n",
              "\n",
              "       forecast solar day ahead  forecast wind offshore eday ahead  \\\n",
              "count              27500.000000                                0.0   \n",
              "mean                1439.292509                                NaN   \n",
              "std                 1677.600341                                NaN   \n",
              "min                    0.000000                                NaN   \n",
              "25%                   63.000000                                NaN   \n",
              "50%                  580.000000                                NaN   \n",
              "75%                 2646.000000                                NaN   \n",
              "max                 5836.000000                                NaN   \n",
              "\n",
              "       forecast wind onshore day ahead  total load forecast  \\\n",
              "count                     27500.000000         27500.000000   \n",
              "mean                       5469.240545         28639.632291   \n",
              "std                        3179.516247          4600.880403   \n",
              "min                         237.000000         18105.000000   \n",
              "25%                        2976.000000         24712.750000   \n",
              "50%                        4856.000000         28848.500000   \n",
              "75%                        7365.250000         32151.000000   \n",
              "max                       17430.000000         41390.000000   \n",
              "\n",
              "       total load actual  price day ahead  price actual  \n",
              "count       27466.000000     27500.000000  27500.000000  \n",
              "mean        28621.754715      4764.150436   5610.960327  \n",
              "std          4577.680533      1432.890512   1424.710564  \n",
              "min         18041.000000       206.000000    933.000000  \n",
              "25%         24724.000000      3994.000000   4783.000000  \n",
              "50%         28839.500000      4835.000000   5610.500000  \n",
              "75%         32082.750000      5700.000000   6530.250000  \n",
              "max         41015.000000     10199.000000  11680.000000  \n",
              "\n",
              "[8 rows x 28 columns]"
            ]
          },
          "execution_count": 6,
          "metadata": {},
          "output_type": "execute_result"
        }
      ],
      "source": [
        "## Have a look at the descriptive statistics\n",
        "df_1.describe()"
      ]
    },
    {
      "cell_type": "markdown",
      "metadata": {
        "id": "1n8_o0U1RA7Z"
      },
      "source": [
        "## **Summary**\n",
        "\n",
        "- From the little analysis, I believe this will be tasking work that will require alot of cleaning. \n",
        "- Modeling too will be tasking to the best model that best fit"
      ]
    },
    {
      "cell_type": "markdown",
      "metadata": {
        "id": "AT3jOtXuRA7a"
      },
      "source": [
        "# **Dataset 2**\n",
        "\n",
        "**This dataset is titled hotel reservations data and I will be using it for classification analysis**"
      ]
    },
    {
      "cell_type": "code",
      "execution_count": null,
      "metadata": {
        "id": "bQYeNDBvRA7a"
      },
      "outputs": [],
      "source": [
        "#load dataset 1 (insurance data)\n",
        "df_2 = pd.read_csv(r\"C:\\Users\\USER\\Desktop\\Hotel Reservations.csv\")"
      ]
    },
    {
      "cell_type": "code",
      "execution_count": null,
      "metadata": {
        "id": "eZgNxSIcRA7b",
        "outputId": "735ad2e3-87c9-4cf2-96d7-7fafaef3195e"
      },
      "outputs": [
        {
          "data": {
            "text/html": [
              "<div>\n",
              "<style scoped>\n",
              "    .dataframe tbody tr th:only-of-type {\n",
              "        vertical-align: middle;\n",
              "    }\n",
              "\n",
              "    .dataframe tbody tr th {\n",
              "        vertical-align: top;\n",
              "    }\n",
              "\n",
              "    .dataframe thead th {\n",
              "        text-align: right;\n",
              "    }\n",
              "</style>\n",
              "<table border=\"1\" class=\"dataframe\">\n",
              "  <thead>\n",
              "    <tr style=\"text-align: right;\">\n",
              "      <th></th>\n",
              "      <th>Booking_ID</th>\n",
              "      <th>no_of_adults</th>\n",
              "      <th>no_of_children</th>\n",
              "      <th>no_of_weekend_nights</th>\n",
              "      <th>no_of_week_nights</th>\n",
              "      <th>type_of_meal_plan</th>\n",
              "      <th>required_car_parking_space</th>\n",
              "      <th>room_type_reserved</th>\n",
              "      <th>lead_time</th>\n",
              "      <th>arrival_year</th>\n",
              "      <th>arrival_month</th>\n",
              "      <th>arrival_date</th>\n",
              "      <th>market_segment_type</th>\n",
              "      <th>repeated_guest</th>\n",
              "      <th>no_of_previous_cancellations</th>\n",
              "      <th>no_of_previous_bookings_not_canceled</th>\n",
              "      <th>avg_price_per_room</th>\n",
              "      <th>no_of_special_requests</th>\n",
              "      <th>booking_status</th>\n",
              "    </tr>\n",
              "  </thead>\n",
              "  <tbody>\n",
              "    <tr>\n",
              "      <th>0</th>\n",
              "      <td>INN00001</td>\n",
              "      <td>2</td>\n",
              "      <td>0</td>\n",
              "      <td>1</td>\n",
              "      <td>2</td>\n",
              "      <td>Meal Plan 1</td>\n",
              "      <td>0</td>\n",
              "      <td>Room_Type 1</td>\n",
              "      <td>224</td>\n",
              "      <td>2017</td>\n",
              "      <td>10</td>\n",
              "      <td>2</td>\n",
              "      <td>Offline</td>\n",
              "      <td>0</td>\n",
              "      <td>0</td>\n",
              "      <td>0</td>\n",
              "      <td>65.00</td>\n",
              "      <td>0</td>\n",
              "      <td>Not_Canceled</td>\n",
              "    </tr>\n",
              "    <tr>\n",
              "      <th>1</th>\n",
              "      <td>INN00002</td>\n",
              "      <td>2</td>\n",
              "      <td>0</td>\n",
              "      <td>2</td>\n",
              "      <td>3</td>\n",
              "      <td>Not Selected</td>\n",
              "      <td>0</td>\n",
              "      <td>Room_Type 1</td>\n",
              "      <td>5</td>\n",
              "      <td>2018</td>\n",
              "      <td>11</td>\n",
              "      <td>6</td>\n",
              "      <td>Online</td>\n",
              "      <td>0</td>\n",
              "      <td>0</td>\n",
              "      <td>0</td>\n",
              "      <td>106.68</td>\n",
              "      <td>1</td>\n",
              "      <td>Not_Canceled</td>\n",
              "    </tr>\n",
              "    <tr>\n",
              "      <th>2</th>\n",
              "      <td>INN00003</td>\n",
              "      <td>1</td>\n",
              "      <td>0</td>\n",
              "      <td>2</td>\n",
              "      <td>1</td>\n",
              "      <td>Meal Plan 1</td>\n",
              "      <td>0</td>\n",
              "      <td>Room_Type 1</td>\n",
              "      <td>1</td>\n",
              "      <td>2018</td>\n",
              "      <td>2</td>\n",
              "      <td>28</td>\n",
              "      <td>Online</td>\n",
              "      <td>0</td>\n",
              "      <td>0</td>\n",
              "      <td>0</td>\n",
              "      <td>60.00</td>\n",
              "      <td>0</td>\n",
              "      <td>Canceled</td>\n",
              "    </tr>\n",
              "    <tr>\n",
              "      <th>3</th>\n",
              "      <td>INN00004</td>\n",
              "      <td>2</td>\n",
              "      <td>0</td>\n",
              "      <td>0</td>\n",
              "      <td>2</td>\n",
              "      <td>Meal Plan 1</td>\n",
              "      <td>0</td>\n",
              "      <td>Room_Type 1</td>\n",
              "      <td>211</td>\n",
              "      <td>2018</td>\n",
              "      <td>5</td>\n",
              "      <td>20</td>\n",
              "      <td>Online</td>\n",
              "      <td>0</td>\n",
              "      <td>0</td>\n",
              "      <td>0</td>\n",
              "      <td>100.00</td>\n",
              "      <td>0</td>\n",
              "      <td>Canceled</td>\n",
              "    </tr>\n",
              "    <tr>\n",
              "      <th>4</th>\n",
              "      <td>INN00005</td>\n",
              "      <td>2</td>\n",
              "      <td>0</td>\n",
              "      <td>1</td>\n",
              "      <td>1</td>\n",
              "      <td>Not Selected</td>\n",
              "      <td>0</td>\n",
              "      <td>Room_Type 1</td>\n",
              "      <td>48</td>\n",
              "      <td>2018</td>\n",
              "      <td>4</td>\n",
              "      <td>11</td>\n",
              "      <td>Online</td>\n",
              "      <td>0</td>\n",
              "      <td>0</td>\n",
              "      <td>0</td>\n",
              "      <td>94.50</td>\n",
              "      <td>0</td>\n",
              "      <td>Canceled</td>\n",
              "    </tr>\n",
              "  </tbody>\n",
              "</table>\n",
              "</div>"
            ],
            "text/plain": [
              "  Booking_ID  no_of_adults  no_of_children  no_of_weekend_nights  \\\n",
              "0   INN00001             2               0                     1   \n",
              "1   INN00002             2               0                     2   \n",
              "2   INN00003             1               0                     2   \n",
              "3   INN00004             2               0                     0   \n",
              "4   INN00005             2               0                     1   \n",
              "\n",
              "   no_of_week_nights type_of_meal_plan  required_car_parking_space  \\\n",
              "0                  2       Meal Plan 1                           0   \n",
              "1                  3      Not Selected                           0   \n",
              "2                  1       Meal Plan 1                           0   \n",
              "3                  2       Meal Plan 1                           0   \n",
              "4                  1      Not Selected                           0   \n",
              "\n",
              "  room_type_reserved  lead_time  arrival_year  arrival_month  arrival_date  \\\n",
              "0        Room_Type 1        224          2017             10             2   \n",
              "1        Room_Type 1          5          2018             11             6   \n",
              "2        Room_Type 1          1          2018              2            28   \n",
              "3        Room_Type 1        211          2018              5            20   \n",
              "4        Room_Type 1         48          2018              4            11   \n",
              "\n",
              "  market_segment_type  repeated_guest  no_of_previous_cancellations  \\\n",
              "0             Offline               0                             0   \n",
              "1              Online               0                             0   \n",
              "2              Online               0                             0   \n",
              "3              Online               0                             0   \n",
              "4              Online               0                             0   \n",
              "\n",
              "   no_of_previous_bookings_not_canceled  avg_price_per_room  \\\n",
              "0                                     0               65.00   \n",
              "1                                     0              106.68   \n",
              "2                                     0               60.00   \n",
              "3                                     0              100.00   \n",
              "4                                     0               94.50   \n",
              "\n",
              "   no_of_special_requests booking_status  \n",
              "0                       0   Not_Canceled  \n",
              "1                       1   Not_Canceled  \n",
              "2                       0       Canceled  \n",
              "3                       0       Canceled  \n",
              "4                       0       Canceled  "
            ]
          },
          "execution_count": 9,
          "metadata": {},
          "output_type": "execute_result"
        }
      ],
      "source": [
        "#check first 5 rows of df_1\n",
        "df_2.head()"
      ]
    },
    {
      "cell_type": "code",
      "execution_count": null,
      "metadata": {
        "id": "Qbx_t3-BRA7b",
        "outputId": "a643d7c0-9d1d-4050-c14d-f9d5de2163ee"
      },
      "outputs": [
        {
          "name": "stdout",
          "output_type": "stream",
          "text": [
            " There are 36275 rows and 19 columns\n"
          ]
        }
      ],
      "source": [
        "#check the shape of df_1\n",
        "df_2.shape\n",
        "print (f' There are {df_2.shape[0]} rows and {df_2.shape[1]} columns')"
      ]
    },
    {
      "cell_type": "markdown",
      "metadata": {
        "id": "0N6emuT8RA7c"
      },
      "source": [
        "## **Source of the Dataset**\n",
        "\n",
        "This dataset was gotten from kaggle site https://www.kaggle.com/datasets/ahsan81/hotel-reservations-classification-dataset"
      ]
    },
    {
      "cell_type": "markdown",
      "metadata": {
        "id": "tTmrzaGuRA7d"
      },
      "source": [
        "## **Brief description of data**\n",
        "\n",
        "The online hotel reservation channels have dramatically changed booking possibilities and customers’ behavior. A significant number of hotel reservations are called-off due to cancellations or no-shows. The typical reasons for cancellations include change of plans, scheduling conflicts, etc. This is often made easier by the option to do so free of charge or preferably at a low cost which is beneficial to hotel guests but it is a less desirable and possibly revenue-diminishing factor for hotels to deal with.\n",
        "\n",
        "- **Can you predict if the customer is going to honor the reservation or cancel it?**"
      ]
    },
    {
      "cell_type": "markdown",
      "metadata": {
        "id": "K4bIQGYzRA7e"
      },
      "source": [
        "## **What is the target?**\n",
        "\n",
        "- Booking status"
      ]
    },
    {
      "cell_type": "markdown",
      "metadata": {
        "id": "a8VkPjeZRA7f"
      },
      "source": [
        "## **What does one row represent?**\n",
        "\n",
        "- Business"
      ]
    },
    {
      "cell_type": "markdown",
      "metadata": {
        "id": "3Pcb3QFhRA7h"
      },
      "source": [
        "## **Is this a classification or regression problem?**\n",
        "\n",
        "- Classification"
      ]
    },
    {
      "cell_type": "markdown",
      "metadata": {
        "id": "yhPZkRFjRA7h"
      },
      "source": [
        "## **How many features does the data have?**\n",
        "\n",
        "- There are eighteen(18) features aside the target variable"
      ]
    },
    {
      "cell_type": "markdown",
      "metadata": {
        "id": "uGchgvbZRA7i"
      },
      "source": [
        "## **How many rows are in the dataset?**\n",
        "\n",
        "- 36275 rows"
      ]
    },
    {
      "cell_type": "markdown",
      "metadata": {
        "id": "Y-b-_0DDRA7j"
      },
      "source": [
        "## **What, if any, challenges do you foresee in cleaning, exploring, or modeling with this dataset?**"
      ]
    },
    {
      "cell_type": "code",
      "execution_count": null,
      "metadata": {
        "id": "K9PanwlERA7j",
        "outputId": "ee80dbc9-d021-4299-ae90-2be843ddedd5"
      },
      "outputs": [
        {
          "data": {
            "text/plain": [
              "Booking_ID                              0\n",
              "no_of_adults                            0\n",
              "no_of_children                          0\n",
              "no_of_weekend_nights                    0\n",
              "no_of_week_nights                       0\n",
              "type_of_meal_plan                       0\n",
              "required_car_parking_space              0\n",
              "room_type_reserved                      0\n",
              "lead_time                               0\n",
              "arrival_year                            0\n",
              "arrival_month                           0\n",
              "arrival_date                            0\n",
              "market_segment_type                     0\n",
              "repeated_guest                          0\n",
              "no_of_previous_cancellations            0\n",
              "no_of_previous_bookings_not_canceled    0\n",
              "avg_price_per_room                      0\n",
              "no_of_special_requests                  0\n",
              "booking_status                          0\n",
              "dtype: int64"
            ]
          },
          "execution_count": 11,
          "metadata": {},
          "output_type": "execute_result"
        }
      ],
      "source": [
        "## Check for missing values\n",
        "df_2.isnull().sum()"
      ]
    },
    {
      "cell_type": "markdown",
      "metadata": {
        "id": "5b1_MT7PRA7k"
      },
      "source": [
        "**No missing values**"
      ]
    },
    {
      "cell_type": "code",
      "execution_count": null,
      "metadata": {
        "id": "mBjC2ZV7RA7k",
        "outputId": "b2b2dcbd-baca-4f84-c278-0cca7cd8ad60"
      },
      "outputs": [
        {
          "data": {
            "text/html": [
              "<div>\n",
              "<style scoped>\n",
              "    .dataframe tbody tr th:only-of-type {\n",
              "        vertical-align: middle;\n",
              "    }\n",
              "\n",
              "    .dataframe tbody tr th {\n",
              "        vertical-align: top;\n",
              "    }\n",
              "\n",
              "    .dataframe thead th {\n",
              "        text-align: right;\n",
              "    }\n",
              "</style>\n",
              "<table border=\"1\" class=\"dataframe\">\n",
              "  <thead>\n",
              "    <tr style=\"text-align: right;\">\n",
              "      <th></th>\n",
              "      <th>no_of_adults</th>\n",
              "      <th>no_of_children</th>\n",
              "      <th>no_of_weekend_nights</th>\n",
              "      <th>no_of_week_nights</th>\n",
              "      <th>required_car_parking_space</th>\n",
              "      <th>lead_time</th>\n",
              "      <th>arrival_year</th>\n",
              "      <th>arrival_month</th>\n",
              "      <th>arrival_date</th>\n",
              "      <th>repeated_guest</th>\n",
              "      <th>no_of_previous_cancellations</th>\n",
              "      <th>no_of_previous_bookings_not_canceled</th>\n",
              "      <th>avg_price_per_room</th>\n",
              "      <th>no_of_special_requests</th>\n",
              "    </tr>\n",
              "  </thead>\n",
              "  <tbody>\n",
              "    <tr>\n",
              "      <th>count</th>\n",
              "      <td>36275.000000</td>\n",
              "      <td>36275.000000</td>\n",
              "      <td>36275.000000</td>\n",
              "      <td>36275.000000</td>\n",
              "      <td>36275.000000</td>\n",
              "      <td>36275.000000</td>\n",
              "      <td>36275.000000</td>\n",
              "      <td>36275.000000</td>\n",
              "      <td>36275.000000</td>\n",
              "      <td>36275.000000</td>\n",
              "      <td>36275.000000</td>\n",
              "      <td>36275.000000</td>\n",
              "      <td>36275.000000</td>\n",
              "      <td>36275.000000</td>\n",
              "    </tr>\n",
              "    <tr>\n",
              "      <th>mean</th>\n",
              "      <td>1.844962</td>\n",
              "      <td>0.105279</td>\n",
              "      <td>0.810724</td>\n",
              "      <td>2.204300</td>\n",
              "      <td>0.030986</td>\n",
              "      <td>85.232557</td>\n",
              "      <td>2017.820427</td>\n",
              "      <td>7.423653</td>\n",
              "      <td>15.596995</td>\n",
              "      <td>0.025637</td>\n",
              "      <td>0.023349</td>\n",
              "      <td>0.153411</td>\n",
              "      <td>103.423539</td>\n",
              "      <td>0.619655</td>\n",
              "    </tr>\n",
              "    <tr>\n",
              "      <th>std</th>\n",
              "      <td>0.518715</td>\n",
              "      <td>0.402648</td>\n",
              "      <td>0.870644</td>\n",
              "      <td>1.410905</td>\n",
              "      <td>0.173281</td>\n",
              "      <td>85.930817</td>\n",
              "      <td>0.383836</td>\n",
              "      <td>3.069894</td>\n",
              "      <td>8.740447</td>\n",
              "      <td>0.158053</td>\n",
              "      <td>0.368331</td>\n",
              "      <td>1.754171</td>\n",
              "      <td>35.089424</td>\n",
              "      <td>0.786236</td>\n",
              "    </tr>\n",
              "    <tr>\n",
              "      <th>min</th>\n",
              "      <td>0.000000</td>\n",
              "      <td>0.000000</td>\n",
              "      <td>0.000000</td>\n",
              "      <td>0.000000</td>\n",
              "      <td>0.000000</td>\n",
              "      <td>0.000000</td>\n",
              "      <td>2017.000000</td>\n",
              "      <td>1.000000</td>\n",
              "      <td>1.000000</td>\n",
              "      <td>0.000000</td>\n",
              "      <td>0.000000</td>\n",
              "      <td>0.000000</td>\n",
              "      <td>0.000000</td>\n",
              "      <td>0.000000</td>\n",
              "    </tr>\n",
              "    <tr>\n",
              "      <th>25%</th>\n",
              "      <td>2.000000</td>\n",
              "      <td>0.000000</td>\n",
              "      <td>0.000000</td>\n",
              "      <td>1.000000</td>\n",
              "      <td>0.000000</td>\n",
              "      <td>17.000000</td>\n",
              "      <td>2018.000000</td>\n",
              "      <td>5.000000</td>\n",
              "      <td>8.000000</td>\n",
              "      <td>0.000000</td>\n",
              "      <td>0.000000</td>\n",
              "      <td>0.000000</td>\n",
              "      <td>80.300000</td>\n",
              "      <td>0.000000</td>\n",
              "    </tr>\n",
              "    <tr>\n",
              "      <th>50%</th>\n",
              "      <td>2.000000</td>\n",
              "      <td>0.000000</td>\n",
              "      <td>1.000000</td>\n",
              "      <td>2.000000</td>\n",
              "      <td>0.000000</td>\n",
              "      <td>57.000000</td>\n",
              "      <td>2018.000000</td>\n",
              "      <td>8.000000</td>\n",
              "      <td>16.000000</td>\n",
              "      <td>0.000000</td>\n",
              "      <td>0.000000</td>\n",
              "      <td>0.000000</td>\n",
              "      <td>99.450000</td>\n",
              "      <td>0.000000</td>\n",
              "    </tr>\n",
              "    <tr>\n",
              "      <th>75%</th>\n",
              "      <td>2.000000</td>\n",
              "      <td>0.000000</td>\n",
              "      <td>2.000000</td>\n",
              "      <td>3.000000</td>\n",
              "      <td>0.000000</td>\n",
              "      <td>126.000000</td>\n",
              "      <td>2018.000000</td>\n",
              "      <td>10.000000</td>\n",
              "      <td>23.000000</td>\n",
              "      <td>0.000000</td>\n",
              "      <td>0.000000</td>\n",
              "      <td>0.000000</td>\n",
              "      <td>120.000000</td>\n",
              "      <td>1.000000</td>\n",
              "    </tr>\n",
              "    <tr>\n",
              "      <th>max</th>\n",
              "      <td>4.000000</td>\n",
              "      <td>10.000000</td>\n",
              "      <td>7.000000</td>\n",
              "      <td>17.000000</td>\n",
              "      <td>1.000000</td>\n",
              "      <td>443.000000</td>\n",
              "      <td>2018.000000</td>\n",
              "      <td>12.000000</td>\n",
              "      <td>31.000000</td>\n",
              "      <td>1.000000</td>\n",
              "      <td>13.000000</td>\n",
              "      <td>58.000000</td>\n",
              "      <td>540.000000</td>\n",
              "      <td>5.000000</td>\n",
              "    </tr>\n",
              "  </tbody>\n",
              "</table>\n",
              "</div>"
            ],
            "text/plain": [
              "       no_of_adults  no_of_children  no_of_weekend_nights  no_of_week_nights  \\\n",
              "count  36275.000000    36275.000000          36275.000000       36275.000000   \n",
              "mean       1.844962        0.105279              0.810724           2.204300   \n",
              "std        0.518715        0.402648              0.870644           1.410905   \n",
              "min        0.000000        0.000000              0.000000           0.000000   \n",
              "25%        2.000000        0.000000              0.000000           1.000000   \n",
              "50%        2.000000        0.000000              1.000000           2.000000   \n",
              "75%        2.000000        0.000000              2.000000           3.000000   \n",
              "max        4.000000       10.000000              7.000000          17.000000   \n",
              "\n",
              "       required_car_parking_space     lead_time  arrival_year  arrival_month  \\\n",
              "count                36275.000000  36275.000000  36275.000000   36275.000000   \n",
              "mean                     0.030986     85.232557   2017.820427       7.423653   \n",
              "std                      0.173281     85.930817      0.383836       3.069894   \n",
              "min                      0.000000      0.000000   2017.000000       1.000000   \n",
              "25%                      0.000000     17.000000   2018.000000       5.000000   \n",
              "50%                      0.000000     57.000000   2018.000000       8.000000   \n",
              "75%                      0.000000    126.000000   2018.000000      10.000000   \n",
              "max                      1.000000    443.000000   2018.000000      12.000000   \n",
              "\n",
              "       arrival_date  repeated_guest  no_of_previous_cancellations  \\\n",
              "count  36275.000000    36275.000000                  36275.000000   \n",
              "mean      15.596995        0.025637                      0.023349   \n",
              "std        8.740447        0.158053                      0.368331   \n",
              "min        1.000000        0.000000                      0.000000   \n",
              "25%        8.000000        0.000000                      0.000000   \n",
              "50%       16.000000        0.000000                      0.000000   \n",
              "75%       23.000000        0.000000                      0.000000   \n",
              "max       31.000000        1.000000                     13.000000   \n",
              "\n",
              "       no_of_previous_bookings_not_canceled  avg_price_per_room  \\\n",
              "count                          36275.000000        36275.000000   \n",
              "mean                               0.153411          103.423539   \n",
              "std                                1.754171           35.089424   \n",
              "min                                0.000000            0.000000   \n",
              "25%                                0.000000           80.300000   \n",
              "50%                                0.000000           99.450000   \n",
              "75%                                0.000000          120.000000   \n",
              "max                               58.000000          540.000000   \n",
              "\n",
              "       no_of_special_requests  \n",
              "count            36275.000000  \n",
              "mean                 0.619655  \n",
              "std                  0.786236  \n",
              "min                  0.000000  \n",
              "25%                  0.000000  \n",
              "50%                  0.000000  \n",
              "75%                  1.000000  \n",
              "max                  5.000000  "
            ]
          },
          "execution_count": 12,
          "metadata": {},
          "output_type": "execute_result"
        }
      ],
      "source": [
        "## Have a look at the descriptive statistics\n",
        "df_2.describe()"
      ]
    },
    {
      "cell_type": "code",
      "execution_count": null,
      "metadata": {
        "id": "beW21jfPRA7l",
        "outputId": "d460cb00-5328-42e4-bd7a-c0c614d5640c"
      },
      "outputs": [
        {
          "data": {
            "text/plain": [
              "Index(['Booking_ID', 'type_of_meal_plan', 'room_type_reserved',\n",
              "       'market_segment_type', 'booking_status'],\n",
              "      dtype='object')"
            ]
          },
          "execution_count": 13,
          "metadata": {},
          "output_type": "execute_result"
        }
      ],
      "source": [
        "df_2.select_dtypes(exclude = np.number).columns"
      ]
    },
    {
      "cell_type": "code",
      "execution_count": null,
      "metadata": {
        "id": "YdLargdTRA7m",
        "outputId": "a0c98647-b25d-4981-98fb-a5580ae318fb"
      },
      "outputs": [
        {
          "data": {
            "text/html": [
              "<div>\n",
              "<style scoped>\n",
              "    .dataframe tbody tr th:only-of-type {\n",
              "        vertical-align: middle;\n",
              "    }\n",
              "\n",
              "    .dataframe tbody tr th {\n",
              "        vertical-align: top;\n",
              "    }\n",
              "\n",
              "    .dataframe thead th {\n",
              "        text-align: right;\n",
              "    }\n",
              "</style>\n",
              "<table border=\"1\" class=\"dataframe\">\n",
              "  <thead>\n",
              "    <tr style=\"text-align: right;\">\n",
              "      <th></th>\n",
              "      <th>Booking_ID</th>\n",
              "      <th>type_of_meal_plan</th>\n",
              "      <th>room_type_reserved</th>\n",
              "      <th>market_segment_type</th>\n",
              "      <th>booking_status</th>\n",
              "    </tr>\n",
              "  </thead>\n",
              "  <tbody>\n",
              "    <tr>\n",
              "      <th>count</th>\n",
              "      <td>36275</td>\n",
              "      <td>36275</td>\n",
              "      <td>36275</td>\n",
              "      <td>36275</td>\n",
              "      <td>36275</td>\n",
              "    </tr>\n",
              "    <tr>\n",
              "      <th>unique</th>\n",
              "      <td>36275</td>\n",
              "      <td>4</td>\n",
              "      <td>7</td>\n",
              "      <td>5</td>\n",
              "      <td>2</td>\n",
              "    </tr>\n",
              "    <tr>\n",
              "      <th>top</th>\n",
              "      <td>INN20042</td>\n",
              "      <td>Meal Plan 1</td>\n",
              "      <td>Room_Type 1</td>\n",
              "      <td>Online</td>\n",
              "      <td>Not_Canceled</td>\n",
              "    </tr>\n",
              "    <tr>\n",
              "      <th>freq</th>\n",
              "      <td>1</td>\n",
              "      <td>27835</td>\n",
              "      <td>28130</td>\n",
              "      <td>23214</td>\n",
              "      <td>24390</td>\n",
              "    </tr>\n",
              "  </tbody>\n",
              "</table>\n",
              "</div>"
            ],
            "text/plain": [
              "       Booking_ID type_of_meal_plan room_type_reserved market_segment_type  \\\n",
              "count       36275             36275              36275               36275   \n",
              "unique      36275                 4                  7                   5   \n",
              "top      INN20042       Meal Plan 1        Room_Type 1              Online   \n",
              "freq            1             27835              28130               23214   \n",
              "\n",
              "       booking_status  \n",
              "count           36275  \n",
              "unique              2  \n",
              "top      Not_Canceled  \n",
              "freq            24390  "
            ]
          },
          "execution_count": 14,
          "metadata": {},
          "output_type": "execute_result"
        }
      ],
      "source": [
        "df_2.describe(exclude = np.number)"
      ]
    },
    {
      "cell_type": "markdown",
      "metadata": {
        "id": "cnl9JewaRA7n"
      },
      "source": [
        "## **Summary 2**\n",
        "\n",
        "- From the little analysis, there will be alot of modifications and challenges during the course of the work. \n",
        "- No much cleaning but alot of exploration is needed\n",
        "- considering it is large dataset with many columns, some columns might make the model to underfit or overfit."
      ]
    },
    {
      "cell_type": "code",
      "execution_count": null,
      "metadata": {
        "id": "VpRniuM-RA7n"
      },
      "outputs": [],
      "source": []
    }
  ],
  "metadata": {
    "kernelspec": {
      "display_name": "Python 3",
      "language": "python",
      "name": "python3"
    },
    "language_info": {
      "codemirror_mode": {
        "name": "ipython",
        "version": 3
      },
      "file_extension": ".py",
      "mimetype": "text/x-python",
      "name": "python",
      "nbconvert_exporter": "python",
      "pygments_lexer": "ipython3",
      "version": "3.7.6"
    },
    "colab": {
      "provenance": [],
      "include_colab_link": true
    }
  },
  "nbformat": 4,
  "nbformat_minor": 0
}