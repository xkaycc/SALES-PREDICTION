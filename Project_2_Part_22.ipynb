{
  "cells": [
    {
      "cell_type": "markdown",
      "metadata": {
        "id": "view-in-github",
        "colab_type": "text"
      },
      "source": [
        "<a href=\"https://colab.research.google.com/github/xkaycc/SALES-PREDICTION/blob/main/Project_2_Part_22.ipynb\" target=\"_parent\"><img src=\"https://colab.research.google.com/assets/colab-badge.svg\" alt=\"Open In Colab\"/></a>"
      ]
    },
    {
      "cell_type": "markdown",
      "metadata": {
        "id": "yOJqZCdMn8f-"
      },
      "source": [
        "## **Project 2**"
      ]
    },
    {
      "cell_type": "markdown",
      "metadata": {
        "id": "rrpbG3Rnn8gB"
      },
      "source": [
        "### **Task**\n",
        "-  clean and explore the approved data set\n",
        "\n",
        "**First dataset (Crude oil)**\n",
        "\n",
        "1. Deleted unnecessary columns.\n",
        "2. Deleted duplicate rows.\n",
        "3. Identified and addressed missing values.\n",
        "4. Identified and corrected inconsistencies in data for categorical values (i.e. Cat, cat, cats).\n",
        "5. Produced univariate visuals for the target and all features.\n",
        "6. Identified outliers.\n",
        "7. Clearly commented all of your cleaning steps and described any decisions you made."
      ]
    },
    {
      "cell_type": "code",
      "execution_count": null,
      "metadata": {
        "id": "PrEpwNr6n8gC"
      },
      "outputs": [],
      "source": [
        "#Import libraries \n",
        "import numpy as np\n",
        "import pandas as pd\n",
        "import seaborn as sns\n",
        "import matplotlib.pyplot as plt"
      ]
    },
    {
      "cell_type": "code",
      "execution_count": null,
      "metadata": {
        "id": "lVPJvzHBn8gD"
      },
      "outputs": [],
      "source": [
        "#load the dataset\n",
        "df =  pd.read_csv(r\"C:\\Users\\USER\\Desktop\\Crude oil.csv\")"
      ]
    },
    {
      "cell_type": "code",
      "execution_count": null,
      "metadata": {
        "id": "D-qJyyYtn8gD",
        "outputId": "cf26dff1-4360-4a59-ba9a-08485999ce52"
      },
      "outputs": [
        {
          "data": {
            "text/html": [
              "<div>\n",
              "<style scoped>\n",
              "    .dataframe tbody tr th:only-of-type {\n",
              "        vertical-align: middle;\n",
              "    }\n",
              "\n",
              "    .dataframe tbody tr th {\n",
              "        vertical-align: top;\n",
              "    }\n",
              "\n",
              "    .dataframe thead th {\n",
              "        text-align: right;\n",
              "    }\n",
              "</style>\n",
              "<table border=\"1\" class=\"dataframe\">\n",
              "  <thead>\n",
              "    <tr style=\"text-align: right;\">\n",
              "      <th></th>\n",
              "      <th>ID</th>\n",
              "      <th>time</th>\n",
              "      <th>generation biomass</th>\n",
              "      <th>generation fossil brown coal/lignite</th>\n",
              "      <th>generation fossil coal-derived gas</th>\n",
              "      <th>generation fossil gas</th>\n",
              "      <th>generation fossil hard coal</th>\n",
              "      <th>generation fossil oil</th>\n",
              "      <th>generation fossil oil shale</th>\n",
              "      <th>generation fossil peat</th>\n",
              "      <th>...</th>\n",
              "      <th>generation waste</th>\n",
              "      <th>generation wind offshore</th>\n",
              "      <th>generation wind onshore</th>\n",
              "      <th>forecast solar day ahead</th>\n",
              "      <th>forecast wind offshore eday ahead</th>\n",
              "      <th>forecast wind onshore day ahead</th>\n",
              "      <th>total load forecast</th>\n",
              "      <th>total load actual</th>\n",
              "      <th>price day ahead</th>\n",
              "      <th>price actual</th>\n",
              "    </tr>\n",
              "  </thead>\n",
              "  <tbody>\n",
              "    <tr>\n",
              "      <th>0</th>\n",
              "      <td>ID_000000</td>\n",
              "      <td>2019-01-01 00:00:00</td>\n",
              "      <td>447.0</td>\n",
              "      <td>329.0</td>\n",
              "      <td>0.0</td>\n",
              "      <td>4844.0</td>\n",
              "      <td>4821.0</td>\n",
              "      <td>162.0</td>\n",
              "      <td>0.0</td>\n",
              "      <td>0.0</td>\n",
              "      <td>...</td>\n",
              "      <td>196.0</td>\n",
              "      <td>0.0</td>\n",
              "      <td>6378.0</td>\n",
              "      <td>17.0</td>\n",
              "      <td>NaN</td>\n",
              "      <td>6436.0</td>\n",
              "      <td>26118.0</td>\n",
              "      <td>25385.0</td>\n",
              "      <td>5010.0</td>\n",
              "      <td>6541.0</td>\n",
              "    </tr>\n",
              "    <tr>\n",
              "      <th>1</th>\n",
              "      <td>ID_000001</td>\n",
              "      <td>2019-01-01 01:00:00</td>\n",
              "      <td>449.0</td>\n",
              "      <td>328.0</td>\n",
              "      <td>0.0</td>\n",
              "      <td>5196.0</td>\n",
              "      <td>4755.0</td>\n",
              "      <td>158.0</td>\n",
              "      <td>0.0</td>\n",
              "      <td>0.0</td>\n",
              "      <td>...</td>\n",
              "      <td>195.0</td>\n",
              "      <td>0.0</td>\n",
              "      <td>5890.0</td>\n",
              "      <td>16.0</td>\n",
              "      <td>NaN</td>\n",
              "      <td>5856.0</td>\n",
              "      <td>24934.0</td>\n",
              "      <td>24382.0</td>\n",
              "      <td>4810.0</td>\n",
              "      <td>6492.0</td>\n",
              "    </tr>\n",
              "    <tr>\n",
              "      <th>2</th>\n",
              "      <td>ID_000002</td>\n",
              "      <td>2019-01-01 02:00:00</td>\n",
              "      <td>448.0</td>\n",
              "      <td>323.0</td>\n",
              "      <td>0.0</td>\n",
              "      <td>4857.0</td>\n",
              "      <td>4581.0</td>\n",
              "      <td>157.0</td>\n",
              "      <td>0.0</td>\n",
              "      <td>0.0</td>\n",
              "      <td>...</td>\n",
              "      <td>196.0</td>\n",
              "      <td>0.0</td>\n",
              "      <td>5461.0</td>\n",
              "      <td>8.0</td>\n",
              "      <td>NaN</td>\n",
              "      <td>5454.0</td>\n",
              "      <td>23515.0</td>\n",
              "      <td>22734.0</td>\n",
              "      <td>4733.0</td>\n",
              "      <td>6448.0</td>\n",
              "    </tr>\n",
              "    <tr>\n",
              "      <th>3</th>\n",
              "      <td>ID_000003</td>\n",
              "      <td>2019-01-01 03:00:00</td>\n",
              "      <td>438.0</td>\n",
              "      <td>254.0</td>\n",
              "      <td>0.0</td>\n",
              "      <td>4314.0</td>\n",
              "      <td>4131.0</td>\n",
              "      <td>160.0</td>\n",
              "      <td>0.0</td>\n",
              "      <td>0.0</td>\n",
              "      <td>...</td>\n",
              "      <td>191.0</td>\n",
              "      <td>0.0</td>\n",
              "      <td>5238.0</td>\n",
              "      <td>2.0</td>\n",
              "      <td>NaN</td>\n",
              "      <td>5151.0</td>\n",
              "      <td>22642.0</td>\n",
              "      <td>21286.0</td>\n",
              "      <td>4227.0</td>\n",
              "      <td>5932.0</td>\n",
              "    </tr>\n",
              "    <tr>\n",
              "      <th>4</th>\n",
              "      <td>ID_000004</td>\n",
              "      <td>2019-01-01 04:00:00</td>\n",
              "      <td>428.0</td>\n",
              "      <td>187.0</td>\n",
              "      <td>0.0</td>\n",
              "      <td>4130.0</td>\n",
              "      <td>3840.0</td>\n",
              "      <td>156.0</td>\n",
              "      <td>0.0</td>\n",
              "      <td>0.0</td>\n",
              "      <td>...</td>\n",
              "      <td>189.0</td>\n",
              "      <td>0.0</td>\n",
              "      <td>4935.0</td>\n",
              "      <td>9.0</td>\n",
              "      <td>NaN</td>\n",
              "      <td>4861.0</td>\n",
              "      <td>21785.0</td>\n",
              "      <td>20264.0</td>\n",
              "      <td>3841.0</td>\n",
              "      <td>5604.0</td>\n",
              "    </tr>\n",
              "  </tbody>\n",
              "</table>\n",
              "<p>5 rows × 30 columns</p>\n",
              "</div>"
            ],
            "text/plain": [
              "          ID                 time  generation biomass  \\\n",
              "0  ID_000000  2019-01-01 00:00:00               447.0   \n",
              "1  ID_000001  2019-01-01 01:00:00               449.0   \n",
              "2  ID_000002  2019-01-01 02:00:00               448.0   \n",
              "3  ID_000003  2019-01-01 03:00:00               438.0   \n",
              "4  ID_000004  2019-01-01 04:00:00               428.0   \n",
              "\n",
              "   generation fossil brown coal/lignite  generation fossil coal-derived gas  \\\n",
              "0                                 329.0                                 0.0   \n",
              "1                                 328.0                                 0.0   \n",
              "2                                 323.0                                 0.0   \n",
              "3                                 254.0                                 0.0   \n",
              "4                                 187.0                                 0.0   \n",
              "\n",
              "   generation fossil gas  generation fossil hard coal  generation fossil oil  \\\n",
              "0                 4844.0                       4821.0                  162.0   \n",
              "1                 5196.0                       4755.0                  158.0   \n",
              "2                 4857.0                       4581.0                  157.0   \n",
              "3                 4314.0                       4131.0                  160.0   \n",
              "4                 4130.0                       3840.0                  156.0   \n",
              "\n",
              "   generation fossil oil shale  generation fossil peat  ...  generation waste  \\\n",
              "0                          0.0                     0.0  ...             196.0   \n",
              "1                          0.0                     0.0  ...             195.0   \n",
              "2                          0.0                     0.0  ...             196.0   \n",
              "3                          0.0                     0.0  ...             191.0   \n",
              "4                          0.0                     0.0  ...             189.0   \n",
              "\n",
              "   generation wind offshore  generation wind onshore  \\\n",
              "0                       0.0                   6378.0   \n",
              "1                       0.0                   5890.0   \n",
              "2                       0.0                   5461.0   \n",
              "3                       0.0                   5238.0   \n",
              "4                       0.0                   4935.0   \n",
              "\n",
              "   forecast solar day ahead  forecast wind offshore eday ahead  \\\n",
              "0                      17.0                                NaN   \n",
              "1                      16.0                                NaN   \n",
              "2                       8.0                                NaN   \n",
              "3                       2.0                                NaN   \n",
              "4                       9.0                                NaN   \n",
              "\n",
              "   forecast wind onshore day ahead  total load forecast  total load actual  \\\n",
              "0                           6436.0              26118.0            25385.0   \n",
              "1                           5856.0              24934.0            24382.0   \n",
              "2                           5454.0              23515.0            22734.0   \n",
              "3                           5151.0              22642.0            21286.0   \n",
              "4                           4861.0              21785.0            20264.0   \n",
              "\n",
              "   price day ahead  price actual  \n",
              "0           5010.0        6541.0  \n",
              "1           4810.0        6492.0  \n",
              "2           4733.0        6448.0  \n",
              "3           4227.0        5932.0  \n",
              "4           3841.0        5604.0  \n",
              "\n",
              "[5 rows x 30 columns]"
            ]
          },
          "execution_count": 3,
          "metadata": {},
          "output_type": "execute_result"
        }
      ],
      "source": [
        "#view the first rows of the dataset\n",
        "df.head()"
      ]
    },
    {
      "cell_type": "code",
      "execution_count": null,
      "metadata": {
        "id": "_2JzuS63n8gD",
        "outputId": "e5fced6a-0af2-468f-b265-23a3b1850b8d"
      },
      "outputs": [
        {
          "name": "stdout",
          "output_type": "stream",
          "text": [
            "There are 27500 rows, and 30 columns\n"
          ]
        }
      ],
      "source": [
        "#View the number of rows and columns in the dataset.\n",
        "print(f\"There are {df.shape[0]} rows, and {df.shape[1]} columns\")"
      ]
    },
    {
      "cell_type": "markdown",
      "metadata": {
        "id": "VMDDD-wFn8gE"
      },
      "source": [
        "## Duplicated Rows"
      ]
    },
    {
      "cell_type": "code",
      "execution_count": null,
      "metadata": {
        "id": "GGKn5aHYn8gE",
        "outputId": "9dfe78d0-9f8e-4fcd-aa43-33b1bd1662e8"
      },
      "outputs": [
        {
          "name": "stdout",
          "output_type": "stream",
          "text": [
            "There are 0 duplicate rows.\n"
          ]
        }
      ],
      "source": [
        "## Display the number of duplicate rows in the dataset\n",
        "print(f'There are {df.duplicated().sum()} duplicate rows.')"
      ]
    },
    {
      "cell_type": "markdown",
      "metadata": {
        "id": "KJ9j5xTfn8gE"
      },
      "source": [
        "## Columns display"
      ]
    },
    {
      "cell_type": "code",
      "execution_count": null,
      "metadata": {
        "id": "lUOC7St3n8gE",
        "outputId": "98cb669a-c538-4089-96d5-2f03def1a105"
      },
      "outputs": [
        {
          "data": {
            "text/plain": [
              "Index(['ID', 'time', 'generation biomass',\n",
              "       'generation fossil brown coal/lignite',\n",
              "       'generation fossil coal-derived gas', 'generation fossil gas',\n",
              "       'generation fossil hard coal', 'generation fossil oil',\n",
              "       'generation fossil oil shale', 'generation fossil peat',\n",
              "       'generation geothermal', 'generation hydro pumped storage aggregated',\n",
              "       'generation hydro pumped storage consumption',\n",
              "       'generation hydro run-of-river and poundage',\n",
              "       'generation hydro water reservoir', 'generation marine',\n",
              "       'generation nuclear', 'generation other', 'generation other renewable',\n",
              "       'generation solar', 'generation waste', 'generation wind offshore',\n",
              "       'generation wind onshore', 'forecast solar day ahead',\n",
              "       'forecast wind offshore eday ahead', 'forecast wind onshore day ahead',\n",
              "       'total load forecast', 'total load actual', 'price day ahead',\n",
              "       'price actual'],\n",
              "      dtype='object')"
            ]
          },
          "execution_count": 6,
          "metadata": {},
          "output_type": "execute_result"
        }
      ],
      "source": [
        "## Display column names\n",
        "df.columns"
      ]
    },
    {
      "cell_type": "code",
      "execution_count": null,
      "metadata": {
        "id": "n-RYEQ3Yn8gF"
      },
      "outputs": [],
      "source": [
        "import datetime\n",
        "df [\"time\"] = pd.to_datetime(df[\"time\"], errors='coerce')\n",
        "df [\"Year\"] = df[\"time\"].dt.year\n",
        "df [\"Month\"] = df[\"time\"].dt.month\n",
        "df [\"Day\"] = df[\"time\"].dt.day\n",
        "df [\"Hour\"] = df[\"time\"].dt.hour\n",
        "df [\"Minutes\"] = df[\"time\"].dt.minute\n",
        "df [\"Seconds\"] = df[\"time\"].dt.second"
      ]
    },
    {
      "cell_type": "markdown",
      "metadata": {
        "id": "F1uGUWF3n8gF"
      },
      "source": [
        "Datetime was imported to split the timeset in the data so that the algorithm can work with well and predict accurately"
      ]
    },
    {
      "cell_type": "code",
      "execution_count": null,
      "metadata": {
        "id": "bbesnAPsn8gF",
        "outputId": "148a8908-31c2-4367-b6f2-b3f53a48195b"
      },
      "outputs": [
        {
          "data": {
            "text/html": [
              "<div>\n",
              "<style scoped>\n",
              "    .dataframe tbody tr th:only-of-type {\n",
              "        vertical-align: middle;\n",
              "    }\n",
              "\n",
              "    .dataframe tbody tr th {\n",
              "        vertical-align: top;\n",
              "    }\n",
              "\n",
              "    .dataframe thead th {\n",
              "        text-align: right;\n",
              "    }\n",
              "</style>\n",
              "<table border=\"1\" class=\"dataframe\">\n",
              "  <thead>\n",
              "    <tr style=\"text-align: right;\">\n",
              "      <th></th>\n",
              "      <th>generation biomass</th>\n",
              "      <th>generation fossil brown coal/lignite</th>\n",
              "      <th>generation fossil coal-derived gas</th>\n",
              "      <th>generation fossil gas</th>\n",
              "      <th>generation fossil hard coal</th>\n",
              "      <th>generation fossil oil</th>\n",
              "      <th>generation fossil oil shale</th>\n",
              "      <th>generation fossil peat</th>\n",
              "      <th>generation geothermal</th>\n",
              "      <th>generation hydro pumped storage aggregated</th>\n",
              "      <th>...</th>\n",
              "      <th>total load forecast</th>\n",
              "      <th>total load actual</th>\n",
              "      <th>price day ahead</th>\n",
              "      <th>price actual</th>\n",
              "      <th>Year</th>\n",
              "      <th>Month</th>\n",
              "      <th>Day</th>\n",
              "      <th>Hour</th>\n",
              "      <th>Minutes</th>\n",
              "      <th>Seconds</th>\n",
              "    </tr>\n",
              "  </thead>\n",
              "  <tbody>\n",
              "    <tr>\n",
              "      <th>count</th>\n",
              "      <td>27482.00000</td>\n",
              "      <td>27483.000000</td>\n",
              "      <td>27483.0</td>\n",
              "      <td>27483.000000</td>\n",
              "      <td>27483.000000</td>\n",
              "      <td>27482.000000</td>\n",
              "      <td>27483.0</td>\n",
              "      <td>27483.0</td>\n",
              "      <td>27483.0</td>\n",
              "      <td>0.0</td>\n",
              "      <td>...</td>\n",
              "      <td>27500.000000</td>\n",
              "      <td>27466.000000</td>\n",
              "      <td>27500.000000</td>\n",
              "      <td>27500.000000</td>\n",
              "      <td>27500.000000</td>\n",
              "      <td>27500.000000</td>\n",
              "      <td>27500.000000</td>\n",
              "      <td>27500.000000</td>\n",
              "      <td>27500.0</td>\n",
              "      <td>27500.0</td>\n",
              "    </tr>\n",
              "    <tr>\n",
              "      <th>mean</th>\n",
              "      <td>396.78022</td>\n",
              "      <td>476.247098</td>\n",
              "      <td>0.0</td>\n",
              "      <td>5555.281119</td>\n",
              "      <td>4411.479242</td>\n",
              "      <td>303.007059</td>\n",
              "      <td>0.0</td>\n",
              "      <td>0.0</td>\n",
              "      <td>0.0</td>\n",
              "      <td>NaN</td>\n",
              "      <td>...</td>\n",
              "      <td>28639.632291</td>\n",
              "      <td>28621.754715</td>\n",
              "      <td>4764.150436</td>\n",
              "      <td>5610.960327</td>\n",
              "      <td>2020.086982</td>\n",
              "      <td>6.298945</td>\n",
              "      <td>15.644436</td>\n",
              "      <td>11.498545</td>\n",
              "      <td>0.0</td>\n",
              "      <td>0.0</td>\n",
              "    </tr>\n",
              "    <tr>\n",
              "      <th>std</th>\n",
              "      <td>88.97453</td>\n",
              "      <td>363.187665</td>\n",
              "      <td>0.0</td>\n",
              "      <td>2252.850015</td>\n",
              "      <td>2015.548483</td>\n",
              "      <td>53.850784</td>\n",
              "      <td>0.0</td>\n",
              "      <td>0.0</td>\n",
              "      <td>0.0</td>\n",
              "      <td>NaN</td>\n",
              "      <td>...</td>\n",
              "      <td>4600.880403</td>\n",
              "      <td>4577.680533</td>\n",
              "      <td>1432.890512</td>\n",
              "      <td>1424.710564</td>\n",
              "      <td>0.896392</td>\n",
              "      <td>3.534103</td>\n",
              "      <td>8.792006</td>\n",
              "      <td>6.921752</td>\n",
              "      <td>0.0</td>\n",
              "      <td>0.0</td>\n",
              "    </tr>\n",
              "    <tr>\n",
              "      <th>min</th>\n",
              "      <td>0.00000</td>\n",
              "      <td>0.000000</td>\n",
              "      <td>0.0</td>\n",
              "      <td>1518.000000</td>\n",
              "      <td>0.000000</td>\n",
              "      <td>0.000000</td>\n",
              "      <td>0.0</td>\n",
              "      <td>0.0</td>\n",
              "      <td>0.0</td>\n",
              "      <td>NaN</td>\n",
              "      <td>...</td>\n",
              "      <td>18105.000000</td>\n",
              "      <td>18041.000000</td>\n",
              "      <td>206.000000</td>\n",
              "      <td>933.000000</td>\n",
              "      <td>2019.000000</td>\n",
              "      <td>1.000000</td>\n",
              "      <td>1.000000</td>\n",
              "      <td>0.000000</td>\n",
              "      <td>0.0</td>\n",
              "      <td>0.0</td>\n",
              "    </tr>\n",
              "    <tr>\n",
              "      <th>25%</th>\n",
              "      <td>340.00000</td>\n",
              "      <td>0.000000</td>\n",
              "      <td>0.0</td>\n",
              "      <td>4069.000000</td>\n",
              "      <td>2618.000000</td>\n",
              "      <td>267.000000</td>\n",
              "      <td>0.0</td>\n",
              "      <td>0.0</td>\n",
              "      <td>0.0</td>\n",
              "      <td>NaN</td>\n",
              "      <td>...</td>\n",
              "      <td>24712.750000</td>\n",
              "      <td>24724.000000</td>\n",
              "      <td>3994.000000</td>\n",
              "      <td>4783.000000</td>\n",
              "      <td>2019.000000</td>\n",
              "      <td>3.000000</td>\n",
              "      <td>8.000000</td>\n",
              "      <td>5.000000</td>\n",
              "      <td>0.0</td>\n",
              "      <td>0.0</td>\n",
              "    </tr>\n",
              "    <tr>\n",
              "      <th>50%</th>\n",
              "      <td>376.00000</td>\n",
              "      <td>558.000000</td>\n",
              "      <td>0.0</td>\n",
              "      <td>4871.000000</td>\n",
              "      <td>4698.000000</td>\n",
              "      <td>303.000000</td>\n",
              "      <td>0.0</td>\n",
              "      <td>0.0</td>\n",
              "      <td>0.0</td>\n",
              "      <td>NaN</td>\n",
              "      <td>...</td>\n",
              "      <td>28848.500000</td>\n",
              "      <td>28839.500000</td>\n",
              "      <td>4835.000000</td>\n",
              "      <td>5610.500000</td>\n",
              "      <td>2020.000000</td>\n",
              "      <td>6.000000</td>\n",
              "      <td>16.000000</td>\n",
              "      <td>11.000000</td>\n",
              "      <td>0.0</td>\n",
              "      <td>0.0</td>\n",
              "    </tr>\n",
              "    <tr>\n",
              "      <th>75%</th>\n",
              "      <td>475.00000</td>\n",
              "      <td>856.000000</td>\n",
              "      <td>0.0</td>\n",
              "      <td>6269.000000</td>\n",
              "      <td>6062.500000</td>\n",
              "      <td>336.000000</td>\n",
              "      <td>0.0</td>\n",
              "      <td>0.0</td>\n",
              "      <td>0.0</td>\n",
              "      <td>NaN</td>\n",
              "      <td>...</td>\n",
              "      <td>32151.000000</td>\n",
              "      <td>32082.750000</td>\n",
              "      <td>5700.000000</td>\n",
              "      <td>6530.250000</td>\n",
              "      <td>2021.000000</td>\n",
              "      <td>9.000000</td>\n",
              "      <td>23.000000</td>\n",
              "      <td>17.000000</td>\n",
              "      <td>0.0</td>\n",
              "      <td>0.0</td>\n",
              "    </tr>\n",
              "    <tr>\n",
              "      <th>max</th>\n",
              "      <td>592.00000</td>\n",
              "      <td>999.000000</td>\n",
              "      <td>0.0</td>\n",
              "      <td>20034.000000</td>\n",
              "      <td>8359.000000</td>\n",
              "      <td>449.000000</td>\n",
              "      <td>0.0</td>\n",
              "      <td>0.0</td>\n",
              "      <td>0.0</td>\n",
              "      <td>NaN</td>\n",
              "      <td>...</td>\n",
              "      <td>41390.000000</td>\n",
              "      <td>41015.000000</td>\n",
              "      <td>10199.000000</td>\n",
              "      <td>11680.000000</td>\n",
              "      <td>2022.000000</td>\n",
              "      <td>12.000000</td>\n",
              "      <td>31.000000</td>\n",
              "      <td>23.000000</td>\n",
              "      <td>0.0</td>\n",
              "      <td>0.0</td>\n",
              "    </tr>\n",
              "  </tbody>\n",
              "</table>\n",
              "<p>8 rows × 34 columns</p>\n",
              "</div>"
            ],
            "text/plain": [
              "       generation biomass  generation fossil brown coal/lignite  \\\n",
              "count         27482.00000                          27483.000000   \n",
              "mean            396.78022                            476.247098   \n",
              "std              88.97453                            363.187665   \n",
              "min               0.00000                              0.000000   \n",
              "25%             340.00000                              0.000000   \n",
              "50%             376.00000                            558.000000   \n",
              "75%             475.00000                            856.000000   \n",
              "max             592.00000                            999.000000   \n",
              "\n",
              "       generation fossil coal-derived gas  generation fossil gas  \\\n",
              "count                             27483.0           27483.000000   \n",
              "mean                                  0.0            5555.281119   \n",
              "std                                   0.0            2252.850015   \n",
              "min                                   0.0            1518.000000   \n",
              "25%                                   0.0            4069.000000   \n",
              "50%                                   0.0            4871.000000   \n",
              "75%                                   0.0            6269.000000   \n",
              "max                                   0.0           20034.000000   \n",
              "\n",
              "       generation fossil hard coal  generation fossil oil  \\\n",
              "count                 27483.000000           27482.000000   \n",
              "mean                   4411.479242             303.007059   \n",
              "std                    2015.548483              53.850784   \n",
              "min                       0.000000               0.000000   \n",
              "25%                    2618.000000             267.000000   \n",
              "50%                    4698.000000             303.000000   \n",
              "75%                    6062.500000             336.000000   \n",
              "max                    8359.000000             449.000000   \n",
              "\n",
              "       generation fossil oil shale  generation fossil peat  \\\n",
              "count                      27483.0                 27483.0   \n",
              "mean                           0.0                     0.0   \n",
              "std                            0.0                     0.0   \n",
              "min                            0.0                     0.0   \n",
              "25%                            0.0                     0.0   \n",
              "50%                            0.0                     0.0   \n",
              "75%                            0.0                     0.0   \n",
              "max                            0.0                     0.0   \n",
              "\n",
              "       generation geothermal  generation hydro pumped storage aggregated  ...  \\\n",
              "count                27483.0                                         0.0  ...   \n",
              "mean                     0.0                                         NaN  ...   \n",
              "std                      0.0                                         NaN  ...   \n",
              "min                      0.0                                         NaN  ...   \n",
              "25%                      0.0                                         NaN  ...   \n",
              "50%                      0.0                                         NaN  ...   \n",
              "75%                      0.0                                         NaN  ...   \n",
              "max                      0.0                                         NaN  ...   \n",
              "\n",
              "       total load forecast  total load actual  price day ahead  price actual  \\\n",
              "count         27500.000000       27466.000000     27500.000000  27500.000000   \n",
              "mean          28639.632291       28621.754715      4764.150436   5610.960327   \n",
              "std            4600.880403        4577.680533      1432.890512   1424.710564   \n",
              "min           18105.000000       18041.000000       206.000000    933.000000   \n",
              "25%           24712.750000       24724.000000      3994.000000   4783.000000   \n",
              "50%           28848.500000       28839.500000      4835.000000   5610.500000   \n",
              "75%           32151.000000       32082.750000      5700.000000   6530.250000   \n",
              "max           41390.000000       41015.000000     10199.000000  11680.000000   \n",
              "\n",
              "               Year         Month           Day          Hour  Minutes  \\\n",
              "count  27500.000000  27500.000000  27500.000000  27500.000000  27500.0   \n",
              "mean    2020.086982      6.298945     15.644436     11.498545      0.0   \n",
              "std        0.896392      3.534103      8.792006      6.921752      0.0   \n",
              "min     2019.000000      1.000000      1.000000      0.000000      0.0   \n",
              "25%     2019.000000      3.000000      8.000000      5.000000      0.0   \n",
              "50%     2020.000000      6.000000     16.000000     11.000000      0.0   \n",
              "75%     2021.000000      9.000000     23.000000     17.000000      0.0   \n",
              "max     2022.000000     12.000000     31.000000     23.000000      0.0   \n",
              "\n",
              "       Seconds  \n",
              "count  27500.0  \n",
              "mean       0.0  \n",
              "std        0.0  \n",
              "min        0.0  \n",
              "25%        0.0  \n",
              "50%        0.0  \n",
              "75%        0.0  \n",
              "max        0.0  \n",
              "\n",
              "[8 rows x 34 columns]"
            ]
          },
          "execution_count": 8,
          "metadata": {},
          "output_type": "execute_result"
        }
      ],
      "source": [
        "## Display the descriptive statistics for the non-numeric columns\n",
        "df.describe(include=\"number\")"
      ]
    },
    {
      "cell_type": "markdown",
      "metadata": {
        "id": "Dj_u-Wrsn8gF"
      },
      "source": [
        "## Missing Values"
      ]
    },
    {
      "cell_type": "code",
      "execution_count": null,
      "metadata": {
        "id": "GydyjAOjn8gG",
        "outputId": "7831377b-a2a7-4a04-d6b3-fcc573b7b623"
      },
      "outputs": [
        {
          "data": {
            "text/plain": [
              "<matplotlib.axes._subplots.AxesSubplot at 0x1351dfb7508>"
            ]
          },
          "execution_count": 9,
          "metadata": {},
          "output_type": "execute_result"
        },
        {
          "data": {
            "image/png": "[encoded data removed]",
            "text/plain": [
              "<Figure size 1800x720 with 2 Axes>"
            ]
          },
          "metadata": {
            "needs_background": "light"
          },
          "output_type": "display_data"
        }
      ],
      "source": [
        "import missingno as msno\n",
        "msno.matrix(df)"
      ]
    },
    {
      "cell_type": "code",
      "execution_count": null,
      "metadata": {
        "id": "2BfUB1JRn8gG",
        "outputId": "2b87fd3f-9e95-4d2a-a79c-96ca1f0dd281"
      },
      "outputs": [
        {
          "name": "stdout",
          "output_type": "stream",
          "text": [
            " There are ID                                                 0\n",
            "time                                               0\n",
            "generation biomass                                18\n",
            "generation fossil brown coal/lignite              17\n",
            "generation fossil coal-derived gas                17\n",
            "generation fossil gas                             17\n",
            "generation fossil hard coal                       17\n",
            "generation fossil oil                             18\n",
            "generation fossil oil shale                       17\n",
            "generation fossil peat                            17\n",
            "generation geothermal                             17\n",
            "generation hydro pumped storage aggregated     27500\n",
            "generation hydro pumped storage consumption       18\n",
            "generation hydro run-of-river and poundage        18\n",
            "generation hydro water reservoir                  17\n",
            "generation marine                                 18\n",
            "generation nuclear                                16\n",
            "generation other                                  17\n",
            "generation other renewable                        17\n",
            "generation solar                                  17\n",
            "generation waste                                  18\n",
            "generation wind offshore                          17\n",
            "generation wind onshore                           17\n",
            "forecast solar day ahead                           0\n",
            "forecast wind offshore eday ahead              27500\n",
            "forecast wind onshore day ahead                    0\n",
            "total load forecast                                0\n",
            "total load actual                                 34\n",
            "price day ahead                                    0\n",
            "price actual                                       0\n",
            "Year                                               0\n",
            "Month                                              0\n",
            "Day                                                0\n",
            "Hour                                               0\n",
            "Minutes                                            0\n",
            "Seconds                                            0\n",
            "dtype: int64 missing values in the dataset\n"
          ]
        }
      ],
      "source": [
        "print(f\" There are {df.isna().sum()} missing values in the dataset\")"
      ]
    },
    {
      "cell_type": "code",
      "execution_count": null,
      "metadata": {
        "id": "BnJv7NAzn8gG",
        "outputId": "e71e5bad-68b6-422c-d9a4-42750a8b0b59"
      },
      "outputs": [
        {
          "name": "stdout",
          "output_type": "stream",
          "text": [
            " There are ID                                               0.000000\n",
            "time                                             0.000000\n",
            "generation biomass                               0.065455\n",
            "generation fossil brown coal/lignite             0.061818\n",
            "generation fossil coal-derived gas               0.061818\n",
            "generation fossil gas                            0.061818\n",
            "generation fossil hard coal                      0.061818\n",
            "generation fossil oil                            0.065455\n",
            "generation fossil oil shale                      0.061818\n",
            "generation fossil peat                           0.061818\n",
            "generation geothermal                            0.061818\n",
            "generation hydro pumped storage aggregated     100.000000\n",
            "generation hydro pumped storage consumption      0.065455\n",
            "generation hydro run-of-river and poundage       0.065455\n",
            "generation hydro water reservoir                 0.061818\n",
            "generation marine                                0.065455\n",
            "generation nuclear                               0.058182\n",
            "generation other                                 0.061818\n",
            "generation other renewable                       0.061818\n",
            "generation solar                                 0.061818\n",
            "generation waste                                 0.065455\n",
            "generation wind offshore                         0.061818\n",
            "generation wind onshore                          0.061818\n",
            "forecast solar day ahead                         0.000000\n",
            "forecast wind offshore eday ahead              100.000000\n",
            "forecast wind onshore day ahead                  0.000000\n",
            "total load forecast                              0.000000\n",
            "total load actual                                0.123636\n",
            "price day ahead                                  0.000000\n",
            "price actual                                     0.000000\n",
            "Year                                             0.000000\n",
            "Month                                            0.000000\n",
            "Day                                              0.000000\n",
            "Hour                                             0.000000\n",
            "Minutes                                          0.000000\n",
            "Seconds                                          0.000000\n",
            "dtype: float64 missing values in the dataset\n"
          ]
        }
      ],
      "source": [
        "print(f\" There are {df.isna().sum()/len(df)*100} missing values in the dataset\")"
      ]
    },
    {
      "cell_type": "code",
      "execution_count": null,
      "metadata": {
        "id": "cvmfMaMJn8gG",
        "outputId": "c8114081-9a4c-4479-dca2-3c45ddef37c3"
      },
      "outputs": [
        {
          "data": {
            "text/plain": [
              "<matplotlib.axes._subplots.AxesSubplot at 0x1351e88d088>"
            ]
          },
          "execution_count": 12,
          "metadata": {},
          "output_type": "execute_result"
        },
        {
          "data": {
            "image/png": "[encoded data removed]",
            "text/plain": [
              "<Figure size 432x288 with 2 Axes>"
            ]
          },
          "metadata": {
            "needs_background": "light"
          },
          "output_type": "display_data"
        }
      ],
      "source": [
        "sns.heatmap(df.corr(), annot = False, cmap = \"Blues\")"
      ]
    },
    {
      "cell_type": "markdown",
      "metadata": {
        "id": "Uo5kvtGIn8gG"
      },
      "source": [
        "### **Delete unneccessary columns**"
      ]
    },
    {
      "cell_type": "markdown",
      "metadata": {
        "id": "keNoUQz4n8gG"
      },
      "source": [
        "Variable columns with missing data more than 70% will be dropped. Also variable that has 0.1- 0.3 correction with the target variable will be dropped"
      ]
    },
    {
      "cell_type": "code",
      "execution_count": null,
      "metadata": {
        "id": "PEitXKKEn8gH"
      },
      "outputs": [],
      "source": [
        "df.drop([\"ID\", \"generation hydro pumped storage aggregated\", \"forecast wind offshore eday ahead\"], axis = 1, inplace = True)"
      ]
    },
    {
      "cell_type": "code",
      "execution_count": null,
      "metadata": {
        "id": "91wwUbNcn8gH"
      },
      "outputs": [],
      "source": [
        "df.drop([\"generation geothermal\", \"generation fossil peat\", \"generation fossil oil shale\", \"generation wind offshore\"], axis = 1, inplace = True)"
      ]
    },
    {
      "cell_type": "code",
      "execution_count": null,
      "metadata": {
        "id": "KbZZNHQ3n8gH"
      },
      "outputs": [],
      "source": [
        "df.drop([\"generation marine\", \"generation fossil brown coal/lignite\", \"generation fossil coal-derived gas\"], axis = 1, inplace = True)"
      ]
    },
    {
      "cell_type": "markdown",
      "metadata": {
        "id": "N-B4MGDGn8gH"
      },
      "source": [
        "## Outliers"
      ]
    },
    {
      "cell_type": "markdown",
      "metadata": {
        "id": "I67Q3Du9n8gH"
      },
      "source": [
        "from the descriptive analysis of the data, I found out that there are outliers in the variable columns. Exploratory analysis of columns will be done"
      ]
    },
    {
      "cell_type": "code",
      "execution_count": null,
      "metadata": {
        "id": "IoMgv30Fn8gH"
      },
      "outputs": [],
      "source": [
        "def remove_outliers(df, columns, threshold=3):\n",
        "    # Create a copy of the DataFrame to work with\n",
        "    df_cleaned = df.copy()\n",
        "\n",
        "    # Loop through the specified columns\n",
        "    for col in columns:\n",
        "\n",
        "        # Calculate the z-score for each value in the column\n",
        "        z_scores = np.abs((df[col] - df[col].mean()) / df[col].std())\n",
        "\n",
        "        # Identify the outliers using the specified threshold\n",
        "        outliers = z_scores > threshold\n",
        "\n",
        "        # Replace the outliers with NaN\n",
        "        df_cleaned[col][outliers] = np.nan\n",
        "\n",
        "    # Drop any rows with NaN values\n",
        "    df_cleaned = df_cleaned.dropna()\n",
        "\n",
        "    return df_cleaned"
      ]
    },
    {
      "cell_type": "code",
      "execution_count": null,
      "metadata": {
        "id": "x4WRNWorn8gH",
        "outputId": "681ff8b6-0a67-482c-f47c-8a598bd1918a"
      },
      "outputs": [
        {
          "name": "stderr",
          "output_type": "stream",
          "text": [
            "C:\\Users\\USER\\anaconda3\\lib\\site-packages\\ipykernel_launcher.py:15: SettingWithCopyWarning: \n",
            "A value is trying to be set on a copy of a slice from a DataFrame\n",
            "\n",
            "See the caveats in the documentation: https://pandas.pydata.org/pandas-docs/stable/user_guide/indexing.html#returning-a-view-versus-a-copy\n",
            "  from ipykernel import kernelapp as app\n"
          ]
        }
      ],
      "source": [
        "cleaned_df = remove_outliers(df, ['generation biomass','generation fossil gas',\n",
        "       'generation fossil hard coal', 'generation fossil oil',\n",
        "       'generation hydro pumped storage consumption',\n",
        "       'generation hydro run-of-river and poundage',\n",
        "       'generation hydro water reservoir', 'generation nuclear',\n",
        "       'generation other', 'generation other renewable', 'generation solar',\n",
        "       'generation waste', 'generation wind onshore',\n",
        "       'forecast solar day ahead', 'forecast wind onshore day ahead',\n",
        "       'total load forecast', 'total load actual', 'price day ahead'], threshold=2.5)"
      ]
    },
    {
      "cell_type": "markdown",
      "metadata": {
        "id": "gX2ESbOfn8gH"
      },
      "source": [
        "Remove outliers from multiple columns in a Pandas DataFrame using the z-score method.\n",
        "  Parameters:\n",
        "    - df: a Pandas DataFrame\n",
        "    - columns: a list of column names to remove outliers from\n",
        "    - threshold: the z-score threshold to use for outlier removal. Default is 3.\n",
        " Returns:\n"
      ]
    },
    {
      "cell_type": "code",
      "execution_count": null,
      "metadata": {
        "id": "tIcSijL2n8gI"
      },
      "outputs": [],
      "source": [
        "X = df.drop([\"price actual\"], axis = 1)\n",
        "y = df[\"price actual\"].apply(int)\n",
        "from sklearn.model_selection import train_test_split\n",
        "\n",
        "X_train, X_test, y_train, y_test= train_test_split(X,y, random_state = 42)"
      ]
    },
    {
      "cell_type": "code",
      "execution_count": null,
      "metadata": {
        "id": "RsjgPfcjn8gI",
        "outputId": "97845498-9101-4b68-9c0f-9580c5614cb1"
      },
      "outputs": [
        {
          "data": {
            "text/plain": [
              "time                                            0\n",
              "generation biomass                             13\n",
              "generation fossil gas                          13\n",
              "generation fossil hard coal                    13\n",
              "generation fossil oil                          14\n",
              "generation hydro pumped storage consumption    14\n",
              "generation hydro run-of-river and poundage     14\n",
              "generation hydro water reservoir               13\n",
              "generation nuclear                             12\n",
              "generation other                               13\n",
              "generation other renewable                     13\n",
              "generation solar                               13\n",
              "generation waste                               14\n",
              "generation wind onshore                        13\n",
              "forecast solar day ahead                        0\n",
              "forecast wind onshore day ahead                 0\n",
              "total load forecast                             0\n",
              "total load actual                              29\n",
              "price day ahead                                 0\n",
              "Year                                            0\n",
              "Month                                           0\n",
              "Day                                             0\n",
              "Hour                                            0\n",
              "Minutes                                         0\n",
              "Seconds                                         0\n",
              "dtype: int64"
            ]
          },
          "execution_count": 19,
          "metadata": {},
          "output_type": "execute_result"
        }
      ],
      "source": [
        "X_train.isna().sum()"
      ]
    },
    {
      "cell_type": "markdown",
      "metadata": {
        "id": "X53DyFo8n8gI"
      },
      "source": [
        "## **Prepare the Data**"
      ]
    },
    {
      "cell_type": "code",
      "execution_count": null,
      "metadata": {
        "id": "WzvB27Srn8gI"
      },
      "outputs": [],
      "source": [
        "## Instantiate the column selectors, SimpleImputer and OneHotEncoder\n",
        "from sklearn.compose import make_column_transformer, make_column_selector\n",
        "from sklearn.preprocessing import StandardScaler\n",
        "from sklearn.impute import SimpleImputer\n",
        "from sklearn.preprocessing import OneHotEncoder"
      ]
    },
    {
      "cell_type": "code",
      "execution_count": null,
      "metadata": {
        "id": "N_ZrIc_2n8gI"
      },
      "outputs": [],
      "source": [
        "#Instantiate categorical and numerical selector\n",
        "cat_selector = make_column_selector(dtype_include = \"object\")\n",
        "num_selector = make_column_selector(dtype_include = \"number\")"
      ]
    },
    {
      "cell_type": "code",
      "execution_count": null,
      "metadata": {
        "id": "EcnlVVmDn8gI"
      },
      "outputs": [],
      "source": [
        "#Dealing with categorical 'and numerical missing values\n",
        "freq_impute = SimpleImputer(strategy = \"most_frequent\")\n",
        "mean_impute = SimpleImputer(strategy = \"median\")\n",
        "scaler = StandardScaler()\n",
        "ohe = OneHotEncoder(handle_unknown = 'ignore', sparse = False)"
      ]
    },
    {
      "cell_type": "code",
      "execution_count": null,
      "metadata": {
        "id": "68QAsb9Dn8gI",
        "outputId": "a0a971e0-050c-45b2-9bc1-6fd46b5f71e6"
      },
      "outputs": [
        {
          "data": {
            "text/plain": [
              "Pipeline(steps=[('simpleimputer', SimpleImputer(strategy='median')),\n",
              "                ('standardscaler', StandardScaler())])"
            ]
          },
          "execution_count": 23,
          "metadata": {},
          "output_type": "execute_result"
        }
      ],
      "source": [
        "#make pipelines\n",
        "#numerical pipelines\n",
        "from sklearn.pipeline import make_pipeline\n",
        "num_pipe = make_pipeline(mean_impute, scaler)\n",
        "num_pipe"
      ]
    },
    {
      "cell_type": "code",
      "execution_count": null,
      "metadata": {
        "id": "Fic8vcnjn8gI",
        "outputId": "b2b3a8c9-2a6d-4e9d-c645-af46e82fbc36"
      },
      "outputs": [
        {
          "data": {
            "text/plain": [
              "Pipeline(steps=[('simpleimputer', SimpleImputer(strategy='most_frequent')),\n",
              "                ('onehotencoder',\n",
              "                 OneHotEncoder(handle_unknown='ignore', sparse=False))])"
            ]
          },
          "execution_count": 24,
          "metadata": {},
          "output_type": "execute_result"
        }
      ],
      "source": [
        "#categorical pipeline\n",
        "cat_pipe = make_pipeline(freq_impute, ohe)\n",
        "cat_pipe"
      ]
    },
    {
      "cell_type": "code",
      "execution_count": null,
      "metadata": {
        "id": "PWW45Fmcn8gI",
        "outputId": "765aff97-c1ff-4f73-883a-5fc6d5d10867"
      },
      "outputs": [
        {
          "data": {
            "text/plain": [
              "ColumnTransformer(transformers=[('pipeline-1',\n",
              "                                 Pipeline(steps=[('simpleimputer',\n",
              "                                                  SimpleImputer(strategy='median')),\n",
              "                                                 ('standardscaler',\n",
              "                                                  StandardScaler())]),\n",
              "                                 <sklearn.compose._column_transformer.make_column_selector object at 0x0000013520BD7388>),\n",
              "                                ('pipeline-2',\n",
              "                                 Pipeline(steps=[('simpleimputer',\n",
              "                                                  SimpleImputer(strategy='most_frequent')),\n",
              "                                                 ('onehotencoder',\n",
              "                                                  OneHotEncoder(handle_unknown='ignore',\n",
              "                                                                sparse=False))]),\n",
              "                                 <sklearn.compose._column_transformer.make_column_selector object at 0x0000013520BD73C8>)])"
            ]
          },
          "execution_count": 25,
          "metadata": {},
          "output_type": "execute_result"
        }
      ],
      "source": [
        "#Instantiate column transformer\n",
        "num_tuple = (num_pipe, num_selector)\n",
        "cat_tuple = (cat_pipe, cat_selector)\n",
        "preprocessor = make_column_transformer(num_tuple, cat_tuple)\n",
        "preprocessor"
      ]
    },
    {
      "cell_type": "code",
      "execution_count": null,
      "metadata": {
        "id": "sSjWJk1un8gI",
        "outputId": "08881d00-b1c4-4f31-f8f0-d6afcfb7cdfc"
      },
      "outputs": [
        {
          "data": {
            "text/plain": [
              "ColumnTransformer(transformers=[('pipeline-1',\n",
              "                                 Pipeline(steps=[('simpleimputer',\n",
              "                                                  SimpleImputer(strategy='median')),\n",
              "                                                 ('standardscaler',\n",
              "                                                  StandardScaler())]),\n",
              "                                 <sklearn.compose._column_transformer.make_column_selector object at 0x0000013520BD7388>),\n",
              "                                ('pipeline-2',\n",
              "                                 Pipeline(steps=[('simpleimputer',\n",
              "                                                  SimpleImputer(strategy='most_frequent')),\n",
              "                                                 ('onehotencoder',\n",
              "                                                  OneHotEncoder(handle_unknown='ignore',\n",
              "                                                                sparse=False))]),\n",
              "                                 <sklearn.compose._column_transformer.make_column_selector object at 0x0000013520BD73C8>)])"
            ]
          },
          "execution_count": 26,
          "metadata": {},
          "output_type": "execute_result"
        }
      ],
      "source": [
        "preprocessor.fit(X_train)"
      ]
    },
    {
      "cell_type": "code",
      "execution_count": null,
      "metadata": {
        "id": "VcC6_r99n8gI"
      },
      "outputs": [],
      "source": [
        "X_train_trans = preprocessor.transform(X_train)\n",
        "X_test_trans = preprocessor.transform(X_test)"
      ]
    },
    {
      "cell_type": "code",
      "execution_count": null,
      "metadata": {
        "id": "msTbLxUIn8gJ",
        "outputId": "0dc044b1-7778-41b8-cd93-2667d56b4ee0"
      },
      "outputs": [
        {
          "name": "stdout",
          "output_type": "stream",
          "text": [
            "0 missing value in training data\n",
            "0 missing value in testing data\n"
          ]
        }
      ],
      "source": [
        "print(np.isnan(X_train_trans).sum(), \"missing value in training data\")\n",
        "print(np.isnan(X_test_trans).sum(), \"missing value in testing data\")"
      ]
    },
    {
      "cell_type": "code",
      "execution_count": null,
      "metadata": {
        "id": "OlyKZhC-n8gJ",
        "outputId": "8342da2b-4217-4449-e087-34a42be4feae"
      },
      "outputs": [
        {
          "name": "stdout",
          "output_type": "stream",
          "text": [
            "[[-1.5491975   1.26229832  1.10162104 ...  0.21328889  0.\n",
            "   0.        ]\n",
            " [-1.42544548  0.36749858  0.59606753 ...  0.06888621  0.\n",
            "   0.        ]\n",
            " [-0.90793702  0.49323986  0.87019871 ...  0.35769157  0.\n",
            "   0.        ]\n",
            " ...\n",
            " [ 0.10457953 -0.45026249 -0.84262451 ...  1.22410766  0.\n",
            "   0.        ]\n",
            " [-1.05418941 -0.00308399  0.64821205 ... -1.08633525  0.\n",
            "   0.        ]\n",
            " [-0.0866736   0.80847856  0.54441963 ...  0.50209425  0.\n",
            "   0.        ]] Transformed train dataset \n",
            "\n",
            "[[-1.49294658 -0.60389708 -0.16424918 ... -1.08633525  0.\n",
            "   0.        ]\n",
            " [-0.36792819 -0.62027887 -0.34452022 ... -0.94193256  0.\n",
            "   0.        ]\n",
            " [ 0.9595935  -0.12218401 -0.57544594 ...  1.51291302  0.\n",
            "   0.        ]\n",
            " ...\n",
            " [-0.61543224  0.1496651   0.81308805 ...  1.22410766  0.\n",
            "   0.        ]\n",
            " [-0.12042415  1.00904476  0.55087562 ...  1.51291302  0.\n",
            "   0.        ]\n",
            " [-0.4354293  -0.44406398  0.65466804 ... -1.37514061  0.\n",
            "   0.        ]] Transformed test dataset\n"
          ]
        }
      ],
      "source": [
        "print (X_train_trans, \"Transformed train dataset\", '\\n')\n",
        "print (X_test_trans, \"Transformed test dataset\")\n"
      ]
    },
    {
      "cell_type": "code",
      "execution_count": null,
      "metadata": {
        "id": "ZXHKL24in8gJ"
      },
      "outputs": [],
      "source": []
    },
    {
      "cell_type": "code",
      "execution_count": null,
      "metadata": {
        "id": "mPiO30FBn8gJ"
      },
      "outputs": [],
      "source": []
    }
  ],
  "metadata": {
    "kernelspec": {
      "display_name": "Python 3",
      "language": "python",
      "name": "python3"
    },
    "language_info": {
      "codemirror_mode": {
        "name": "ipython",
        "version": 3
      },
      "file_extension": ".py",
      "mimetype": "text/x-python",
      "name": "python",
      "nbconvert_exporter": "python",
      "pygments_lexer": "ipython3",
      "version": "3.7.6"
    },
    "colab": {
      "provenance": [],
      "include_colab_link": true
    }
  },
  "nbformat": 4,
  "nbformat_minor": 0
}