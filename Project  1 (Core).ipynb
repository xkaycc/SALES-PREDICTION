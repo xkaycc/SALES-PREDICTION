{
 "cells": [
  {
   "cell_type": "markdown",
   "metadata": {
    "id": "PMFj-fnLvm74"
   },
   "source": [
    "# **Project Work on Regression**"
   ]
  },
  {
   "cell_type": "markdown",
   "metadata": {
    "id": "M3wwYi6u_VU3"
   },
   "source": [
    "### **Task**\n",
    "- The objective of this project is to predict 'sale'.\n"
   ]
  },
  {
   "cell_type": "markdown",
   "metadata": {
    "id": "_A7msLwr_4TA"
   },
   "source": [
    "### **Import Libraries**"
   ]
  },
  {
   "cell_type": "code",
   "execution_count": 1,
   "metadata": {
    "id": "1qqHcPH56CaM"
   },
   "outputs": [],
   "source": [
    "## Pandas\n",
    "import pandas as pd\n",
    "## Numpy\n",
    "import numpy as np\n",
    "## seaborn\n",
    "import seaborn as sns\n",
    "\n",
    "\n",
    "## Preprocessing\n",
    "from sklearn.model_selection import train_test_split\n",
    "from sklearn.compose import make_column_selector\n",
    "from sklearn.preprocessing import StandardScaler, OneHotEncoder\n",
    "from sklearn.pipeline import make_pipeline\n",
    "from sklearn.compose import make_column_transformer\n",
    "\n",
    "## Models\n",
    "from sklearn.dummy import DummyRegressor\n",
    "from sklearn.linear_model import LinearRegression\n",
    "\n",
    "## Regression Metrics\n",
    "from sklearn.metrics import r2_score\n",
    "from sklearn.metrics import mean_absolute_error\n",
    "from sklearn.metrics import mean_squared_error\n",
    "\n",
    "## Set global scikit-learn configuration \n",
    "from sklearn import set_config"
   ]
  },
  {
   "cell_type": "markdown",
   "metadata": {
    "id": "Oq-B_ZRiy0zu"
   },
   "source": [
    "### **Functions**"
   ]
  },
  {
   "cell_type": "markdown",
   "metadata": {
    "id": "R3oYvS1LLRNM"
   },
   "source": [
    "  **Metrics for X_train**\n",
    "\n",
    "  mae = mean_absolute_error(y_train, model_pipeline.predict(x_train))\n",
    "\n",
    "  mse = mean_squared_error(y_train, model_pipeline.predict(x_train))\n",
    "\n",
    "  rmse = np.sqrt(mean_squared_error(y_train, model_pipeline.predict(x_train)))\n",
    "\n",
    "  r2 = r2_score(y_train, model_pipeline.predict(x_train))\n",
    "\n",
    "\n",
    "\n",
    "\n"
   ]
  },
  {
   "cell_type": "markdown",
   "metadata": {
    "id": "C0O5bGkhLRKG"
   },
   "source": [
    "**Metrics for X_test**\n",
    "\n",
    "  mae = mean_absolute_error(y_test, model_pipeline.predict(x_test))\n",
    "\n",
    "  mse = mean_squared_error(y_test, model_pipeline.predict(x_test))\n",
    "\n",
    "  rmse = np.sqrt(mean_squared_error(y_test, model_pipeline.predict(x_test)))\n",
    "\n",
    "  r2 = r2_score(y_test, model_pipeline.predict(x_test))"
   ]
  },
  {
   "cell_type": "code",
   "execution_count": 2,
   "metadata": {
    "id": "jcIDMS5HDHx7"
   },
   "outputs": [],
   "source": [
    "## Create a function to take the true and predicted values\n",
    "## and print MAE, MSE, RMSE, and R2 metrics for a model\n",
    "def model_metrics(pipe, x_train, y_train, x_test, y_test, \n",
    "                       model_name='Regression Model', ):\n",
    "  ## Train\n",
    "  mae = round(mean_absolute_error(y_train, pipe.predict(x_train)),4)\n",
    "  mse = round(mean_squared_error(y_train, pipe.predict(x_train)),4)\n",
    "  rmse = round(np.sqrt(mean_squared_error(y_train, pipe.predict(x_train))),4)\n",
    "  r2 = round(r2_score(y_train, pipe.predict(x_train)),6)\n",
    "  print(f'{model_name} Train Scores')\n",
    "  print(f'MAE: {mae:,.4f} \\nMSE: {mse:,.4f} \\nRMSE: {rmse:,.4f} \\nR2: {r2:.4f}\\n')\n",
    "\n",
    "  ## Test\n",
    "  mae = round(mean_absolute_error(y_test, pipe.predict(x_test)),4)\n",
    "  mse = round(mean_squared_error(y_test, pipe.predict(x_test)),4)\n",
    "  rmse = round(np.sqrt(mean_squared_error(y_test, pipe.predict(x_test))),4)\n",
    "  r2 = round(r2_score(y_test, pipe.predict(x_test)),6)\n",
    "\n",
    "  # Display the metrics for the model\n",
    "  print(f'{model_name} Test Scores')\n",
    "  print(f'MAE: {mae:,.4f} \\nMSE: {mse:,.4f} \\nRMSE: {rmse:,.4f} \\nR2: {r2:.4f}\\n')"
   ]
  },
  {
   "cell_type": "markdown",
   "metadata": {
    "id": "G9Ek4ZmQwzbY"
   },
   "source": [
    "## **1. Load and inspect the data**"
   ]
  },
  {
   "cell_type": "markdown",
   "metadata": {
    "id": "chE67Xz-9MZp"
   },
   "source": [
    "### **Load the Data**"
   ]
  },
  {
   "cell_type": "code",
   "execution_count": 3,
   "metadata": {
    "id": "x0N_O7tr5WV8"
   },
   "outputs": [],
   "source": [
    "## Load Data\n",
    "df = pd.read_csv(r\"C:\\Users\\USER\\Desktop\\sales_predictions (4).csv\")"
   ]
  },
  {
   "cell_type": "markdown",
   "metadata": {
    "id": "TWv7Eua09QWO"
   },
   "source": [
    "### **Inspect the Data**"
   ]
  },
  {
   "cell_type": "code",
   "execution_count": 4,
   "metadata": {
    "colab": {
     "base_uri": "https://localhost:8080/",
     "height": 204
    },
    "executionInfo": {
     "elapsed": 14,
     "status": "ok",
     "timestamp": 1675132903441,
     "user": {
      "displayName": "Yvon Bilodeau",
      "userId": "10142856831792134633"
     },
     "user_tz": 480
    },
    "id": "peyw3fkk1NdC",
    "outputId": "f051cb18-16a7-42c6-ced5-a5e1bd7a6f04"
   },
   "outputs": [
    {
     "data": {
      "text/html": [
       "<div>\n",
       "<style scoped>\n",
       "    .dataframe tbody tr th:only-of-type {\n",
       "        vertical-align: middle;\n",
       "    }\n",
       "\n",
       "    .dataframe tbody tr th {\n",
       "        vertical-align: top;\n",
       "    }\n",
       "\n",
       "    .dataframe thead th {\n",
       "        text-align: right;\n",
       "    }\n",
       "</style>\n",
       "<table border=\"1\" class=\"dataframe\">\n",
       "  <thead>\n",
       "    <tr style=\"text-align: right;\">\n",
       "      <th></th>\n",
       "      <th>Item_Identifier</th>\n",
       "      <th>Item_Weight</th>\n",
       "      <th>Item_Fat_Content</th>\n",
       "      <th>Item_Visibility</th>\n",
       "      <th>Item_Type</th>\n",
       "      <th>Item_MRP</th>\n",
       "      <th>Outlet_Identifier</th>\n",
       "      <th>Outlet_Establishment_Year</th>\n",
       "      <th>Outlet_Size</th>\n",
       "      <th>Outlet_Location_Type</th>\n",
       "      <th>Outlet_Type</th>\n",
       "      <th>Item_Outlet_Sales</th>\n",
       "    </tr>\n",
       "  </thead>\n",
       "  <tbody>\n",
       "    <tr>\n",
       "      <th>0</th>\n",
       "      <td>FDA15</td>\n",
       "      <td>9.30</td>\n",
       "      <td>Low Fat</td>\n",
       "      <td>0.016047</td>\n",
       "      <td>Dairy</td>\n",
       "      <td>249.8092</td>\n",
       "      <td>OUT049</td>\n",
       "      <td>1999</td>\n",
       "      <td>Medium</td>\n",
       "      <td>Tier 1</td>\n",
       "      <td>Supermarket Type1</td>\n",
       "      <td>3735.1380</td>\n",
       "    </tr>\n",
       "    <tr>\n",
       "      <th>1</th>\n",
       "      <td>DRC01</td>\n",
       "      <td>5.92</td>\n",
       "      <td>Regular</td>\n",
       "      <td>0.019278</td>\n",
       "      <td>Soft Drinks</td>\n",
       "      <td>48.2692</td>\n",
       "      <td>OUT018</td>\n",
       "      <td>2009</td>\n",
       "      <td>Medium</td>\n",
       "      <td>Tier 3</td>\n",
       "      <td>Supermarket Type2</td>\n",
       "      <td>443.4228</td>\n",
       "    </tr>\n",
       "    <tr>\n",
       "      <th>2</th>\n",
       "      <td>FDN15</td>\n",
       "      <td>17.50</td>\n",
       "      <td>Low Fat</td>\n",
       "      <td>0.016760</td>\n",
       "      <td>Meat</td>\n",
       "      <td>141.6180</td>\n",
       "      <td>OUT049</td>\n",
       "      <td>1999</td>\n",
       "      <td>Medium</td>\n",
       "      <td>Tier 1</td>\n",
       "      <td>Supermarket Type1</td>\n",
       "      <td>2097.2700</td>\n",
       "    </tr>\n",
       "    <tr>\n",
       "      <th>3</th>\n",
       "      <td>FDX07</td>\n",
       "      <td>19.20</td>\n",
       "      <td>Regular</td>\n",
       "      <td>0.000000</td>\n",
       "      <td>Fruits and Vegetables</td>\n",
       "      <td>182.0950</td>\n",
       "      <td>OUT010</td>\n",
       "      <td>1998</td>\n",
       "      <td>NaN</td>\n",
       "      <td>Tier 3</td>\n",
       "      <td>Grocery Store</td>\n",
       "      <td>732.3800</td>\n",
       "    </tr>\n",
       "    <tr>\n",
       "      <th>4</th>\n",
       "      <td>NCD19</td>\n",
       "      <td>8.93</td>\n",
       "      <td>Low Fat</td>\n",
       "      <td>0.000000</td>\n",
       "      <td>Household</td>\n",
       "      <td>53.8614</td>\n",
       "      <td>OUT013</td>\n",
       "      <td>1987</td>\n",
       "      <td>High</td>\n",
       "      <td>Tier 3</td>\n",
       "      <td>Supermarket Type1</td>\n",
       "      <td>994.7052</td>\n",
       "    </tr>\n",
       "  </tbody>\n",
       "</table>\n",
       "</div>"
      ],
      "text/plain": [
       "  Item_Identifier  Item_Weight Item_Fat_Content  Item_Visibility  \\\n",
       "0           FDA15         9.30          Low Fat         0.016047   \n",
       "1           DRC01         5.92          Regular         0.019278   \n",
       "2           FDN15        17.50          Low Fat         0.016760   \n",
       "3           FDX07        19.20          Regular         0.000000   \n",
       "4           NCD19         8.93          Low Fat         0.000000   \n",
       "\n",
       "               Item_Type  Item_MRP Outlet_Identifier  \\\n",
       "0                  Dairy  249.8092            OUT049   \n",
       "1            Soft Drinks   48.2692            OUT018   \n",
       "2                   Meat  141.6180            OUT049   \n",
       "3  Fruits and Vegetables  182.0950            OUT010   \n",
       "4              Household   53.8614            OUT013   \n",
       "\n",
       "   Outlet_Establishment_Year Outlet_Size Outlet_Location_Type  \\\n",
       "0                       1999      Medium               Tier 1   \n",
       "1                       2009      Medium               Tier 3   \n",
       "2                       1999      Medium               Tier 1   \n",
       "3                       1998         NaN               Tier 3   \n",
       "4                       1987        High               Tier 3   \n",
       "\n",
       "         Outlet_Type  Item_Outlet_Sales  \n",
       "0  Supermarket Type1          3735.1380  \n",
       "1  Supermarket Type2           443.4228  \n",
       "2  Supermarket Type1          2097.2700  \n",
       "3      Grocery Store           732.3800  \n",
       "4  Supermarket Type1           994.7052  "
      ]
     },
     "execution_count": 4,
     "metadata": {},
     "output_type": "execute_result"
    }
   ],
   "source": [
    "## Display the first (5) rows of the dataframe\n",
    "df.head()"
   ]
  },
  {
   "cell_type": "markdown",
   "metadata": {
    "id": "yY6ufaEA1Vvc"
   },
   "source": [
    "- The data appears to have loaded correctly."
   ]
  },
  {
   "cell_type": "code",
   "execution_count": 5,
   "metadata": {
    "colab": {
     "base_uri": "https://localhost:8080/"
    },
    "executionInfo": {
     "elapsed": 11,
     "status": "ok",
     "timestamp": 1675132903441,
     "user": {
      "displayName": "Yvon Bilodeau",
      "userId": "10142856831792134633"
     },
     "user_tz": 480
    },
    "id": "t9B91f1WH_AJ",
    "outputId": "b9ae113d-2064-4bd6-f451-4626e609988b"
   },
   "outputs": [
    {
     "name": "stdout",
     "output_type": "stream",
     "text": [
      "There are 8523 rows, and 12 columns.\n",
      "The rows represent 8523 observations, and the columns represent 11 features and 1 target variable.\n"
     ]
    }
   ],
   "source": [
    "## Display the number of rows and columns for the dataframe\n",
    "df.shape\n",
    "print(f'There are {df.shape[0]} rows, and {df.shape[1]} columns.')\n",
    "print(f'The rows represent {df.shape[0]} observations, and the columns represent {df.shape[1]-1} features and 1 target variable.')"
   ]
  },
  {
   "cell_type": "code",
   "execution_count": 6,
   "metadata": {
    "colab": {
     "base_uri": "https://localhost:8080/"
    },
    "executionInfo": {
     "elapsed": 184,
     "status": "ok",
     "timestamp": 1675132903619,
     "user": {
      "displayName": "Yvon Bilodeau",
      "userId": "10142856831792134633"
     },
     "user_tz": 480
    },
    "id": "VKOpCxFs1niy",
    "outputId": "d3db02eb-9650-44aa-e237-2234e3525865"
   },
   "outputs": [
    {
     "data": {
      "text/plain": [
       "Item_Identifier               object\n",
       "Item_Weight                  float64\n",
       "Item_Fat_Content              object\n",
       "Item_Visibility              float64\n",
       "Item_Type                     object\n",
       "Item_MRP                     float64\n",
       "Outlet_Identifier             object\n",
       "Outlet_Establishment_Year      int64\n",
       "Outlet_Size                   object\n",
       "Outlet_Location_Type          object\n",
       "Outlet_Type                   object\n",
       "Item_Outlet_Sales            float64\n",
       "dtype: object"
      ]
     },
     "execution_count": 6,
     "metadata": {},
     "output_type": "execute_result"
    }
   ],
   "source": [
    "## Display the column names and datatypes for each column\n",
    "## Columns with mixed datatypes are identified as an object datatype\n",
    "df.dtypes"
   ]
  },
  {
   "cell_type": "code",
   "execution_count": 7,
   "metadata": {
    "colab": {
     "base_uri": "https://localhost:8080/"
    },
    "executionInfo": {
     "elapsed": 5,
     "status": "ok",
     "timestamp": 1675132903619,
     "user": {
      "displayName": "Yvon Bilodeau",
      "userId": "10142856831792134633"
     },
     "user_tz": 480
    },
    "id": "y6K241S-1p5M",
    "outputId": "28a902ba-c9f3-41e5-9761-16eee1a8ed5d"
   },
   "outputs": [
    {
     "name": "stdout",
     "output_type": "stream",
     "text": [
      "<class 'pandas.core.frame.DataFrame'>\n",
      "RangeIndex: 8523 entries, 0 to 8522\n",
      "Data columns (total 12 columns):\n",
      " #   Column                     Non-Null Count  Dtype  \n",
      "---  ------                     --------------  -----  \n",
      " 0   Item_Identifier            8523 non-null   object \n",
      " 1   Item_Weight                7060 non-null   float64\n",
      " 2   Item_Fat_Content           8523 non-null   object \n",
      " 3   Item_Visibility            8523 non-null   float64\n",
      " 4   Item_Type                  8523 non-null   object \n",
      " 5   Item_MRP                   8523 non-null   float64\n",
      " 6   Outlet_Identifier          8523 non-null   object \n",
      " 7   Outlet_Establishment_Year  8523 non-null   int64  \n",
      " 8   Outlet_Size                6113 non-null   object \n",
      " 9   Outlet_Location_Type       8523 non-null   object \n",
      " 10  Outlet_Type                8523 non-null   object \n",
      " 11  Item_Outlet_Sales          8523 non-null   float64\n",
      "dtypes: float64(4), int64(1), object(7)\n",
      "memory usage: 799.2+ KB\n"
     ]
    }
   ],
   "source": [
    "## Display the column names, count of non-null values, and their datatypes\n",
    "df.info()"
   ]
  },
  {
   "cell_type": "code",
   "execution_count": 8,
   "metadata": {
    "colab": {
     "base_uri": "https://localhost:8080/",
     "height": 297
    },
    "executionInfo": {
     "elapsed": 4,
     "status": "ok",
     "timestamp": 1675132903620,
     "user": {
      "displayName": "Yvon Bilodeau",
      "userId": "10142856831792134633"
     },
     "user_tz": 480
    },
    "id": "AfOek3qk1uwa",
    "outputId": "db133669-cb55-4512-a820-c5c1783d2e4f"
   },
   "outputs": [
    {
     "data": {
      "text/html": [
       "<div>\n",
       "<style scoped>\n",
       "    .dataframe tbody tr th:only-of-type {\n",
       "        vertical-align: middle;\n",
       "    }\n",
       "\n",
       "    .dataframe tbody tr th {\n",
       "        vertical-align: top;\n",
       "    }\n",
       "\n",
       "    .dataframe thead th {\n",
       "        text-align: right;\n",
       "    }\n",
       "</style>\n",
       "<table border=\"1\" class=\"dataframe\">\n",
       "  <thead>\n",
       "    <tr style=\"text-align: right;\">\n",
       "      <th></th>\n",
       "      <th>Item_Weight</th>\n",
       "      <th>Item_Visibility</th>\n",
       "      <th>Item_MRP</th>\n",
       "      <th>Outlet_Establishment_Year</th>\n",
       "      <th>Item_Outlet_Sales</th>\n",
       "    </tr>\n",
       "  </thead>\n",
       "  <tbody>\n",
       "    <tr>\n",
       "      <th>count</th>\n",
       "      <td>7060.000000</td>\n",
       "      <td>8523.000000</td>\n",
       "      <td>8523.000000</td>\n",
       "      <td>8523.000000</td>\n",
       "      <td>8523.000000</td>\n",
       "    </tr>\n",
       "    <tr>\n",
       "      <th>mean</th>\n",
       "      <td>12.857645</td>\n",
       "      <td>0.066132</td>\n",
       "      <td>140.992782</td>\n",
       "      <td>1997.831867</td>\n",
       "      <td>2181.288914</td>\n",
       "    </tr>\n",
       "    <tr>\n",
       "      <th>std</th>\n",
       "      <td>4.643456</td>\n",
       "      <td>0.051598</td>\n",
       "      <td>62.275067</td>\n",
       "      <td>8.371760</td>\n",
       "      <td>1706.499616</td>\n",
       "    </tr>\n",
       "    <tr>\n",
       "      <th>min</th>\n",
       "      <td>4.555000</td>\n",
       "      <td>0.000000</td>\n",
       "      <td>31.290000</td>\n",
       "      <td>1985.000000</td>\n",
       "      <td>33.290000</td>\n",
       "    </tr>\n",
       "    <tr>\n",
       "      <th>25%</th>\n",
       "      <td>8.773750</td>\n",
       "      <td>0.026989</td>\n",
       "      <td>93.826500</td>\n",
       "      <td>1987.000000</td>\n",
       "      <td>834.247400</td>\n",
       "    </tr>\n",
       "    <tr>\n",
       "      <th>50%</th>\n",
       "      <td>12.600000</td>\n",
       "      <td>0.053931</td>\n",
       "      <td>143.012800</td>\n",
       "      <td>1999.000000</td>\n",
       "      <td>1794.331000</td>\n",
       "    </tr>\n",
       "    <tr>\n",
       "      <th>75%</th>\n",
       "      <td>16.850000</td>\n",
       "      <td>0.094585</td>\n",
       "      <td>185.643700</td>\n",
       "      <td>2004.000000</td>\n",
       "      <td>3101.296400</td>\n",
       "    </tr>\n",
       "    <tr>\n",
       "      <th>max</th>\n",
       "      <td>21.350000</td>\n",
       "      <td>0.328391</td>\n",
       "      <td>266.888400</td>\n",
       "      <td>2009.000000</td>\n",
       "      <td>13086.964800</td>\n",
       "    </tr>\n",
       "  </tbody>\n",
       "</table>\n",
       "</div>"
      ],
      "text/plain": [
       "       Item_Weight  Item_Visibility     Item_MRP  Outlet_Establishment_Year  \\\n",
       "count  7060.000000      8523.000000  8523.000000                8523.000000   \n",
       "mean     12.857645         0.066132   140.992782                1997.831867   \n",
       "std       4.643456         0.051598    62.275067                   8.371760   \n",
       "min       4.555000         0.000000    31.290000                1985.000000   \n",
       "25%       8.773750         0.026989    93.826500                1987.000000   \n",
       "50%      12.600000         0.053931   143.012800                1999.000000   \n",
       "75%      16.850000         0.094585   185.643700                2004.000000   \n",
       "max      21.350000         0.328391   266.888400                2009.000000   \n",
       "\n",
       "       Item_Outlet_Sales  \n",
       "count        8523.000000  \n",
       "mean         2181.288914  \n",
       "std          1706.499616  \n",
       "min            33.290000  \n",
       "25%           834.247400  \n",
       "50%          1794.331000  \n",
       "75%          3101.296400  \n",
       "max         13086.964800  "
      ]
     },
     "execution_count": 8,
     "metadata": {},
     "output_type": "execute_result"
    }
   ],
   "source": [
    "## Display the descriptive statistics for the numeric columns\n",
    "df.describe(include=\"number\") # or 'object'"
   ]
  },
  {
   "cell_type": "code",
   "execution_count": 9,
   "metadata": {
    "colab": {
     "base_uri": "https://localhost:8080/",
     "height": 173
    },
    "executionInfo": {
     "elapsed": 193,
     "status": "ok",
     "timestamp": 1675132903810,
     "user": {
      "displayName": "Yvon Bilodeau",
      "userId": "10142856831792134633"
     },
     "user_tz": 480
    },
    "id": "Rt5G3Lto1xAp",
    "outputId": "599809d9-2bc5-4e96-984c-729c38d41c2f"
   },
   "outputs": [
    {
     "data": {
      "text/html": [
       "<div>\n",
       "<style scoped>\n",
       "    .dataframe tbody tr th:only-of-type {\n",
       "        vertical-align: middle;\n",
       "    }\n",
       "\n",
       "    .dataframe tbody tr th {\n",
       "        vertical-align: top;\n",
       "    }\n",
       "\n",
       "    .dataframe thead th {\n",
       "        text-align: right;\n",
       "    }\n",
       "</style>\n",
       "<table border=\"1\" class=\"dataframe\">\n",
       "  <thead>\n",
       "    <tr style=\"text-align: right;\">\n",
       "      <th></th>\n",
       "      <th>Item_Identifier</th>\n",
       "      <th>Item_Fat_Content</th>\n",
       "      <th>Item_Type</th>\n",
       "      <th>Outlet_Identifier</th>\n",
       "      <th>Outlet_Size</th>\n",
       "      <th>Outlet_Location_Type</th>\n",
       "      <th>Outlet_Type</th>\n",
       "    </tr>\n",
       "  </thead>\n",
       "  <tbody>\n",
       "    <tr>\n",
       "      <th>count</th>\n",
       "      <td>8523</td>\n",
       "      <td>8523</td>\n",
       "      <td>8523</td>\n",
       "      <td>8523</td>\n",
       "      <td>6113</td>\n",
       "      <td>8523</td>\n",
       "      <td>8523</td>\n",
       "    </tr>\n",
       "    <tr>\n",
       "      <th>unique</th>\n",
       "      <td>1559</td>\n",
       "      <td>5</td>\n",
       "      <td>16</td>\n",
       "      <td>10</td>\n",
       "      <td>3</td>\n",
       "      <td>3</td>\n",
       "      <td>4</td>\n",
       "    </tr>\n",
       "    <tr>\n",
       "      <th>top</th>\n",
       "      <td>FDG33</td>\n",
       "      <td>Low Fat</td>\n",
       "      <td>Fruits and Vegetables</td>\n",
       "      <td>OUT027</td>\n",
       "      <td>Medium</td>\n",
       "      <td>Tier 3</td>\n",
       "      <td>Supermarket Type1</td>\n",
       "    </tr>\n",
       "    <tr>\n",
       "      <th>freq</th>\n",
       "      <td>10</td>\n",
       "      <td>5089</td>\n",
       "      <td>1232</td>\n",
       "      <td>935</td>\n",
       "      <td>2793</td>\n",
       "      <td>3350</td>\n",
       "      <td>5577</td>\n",
       "    </tr>\n",
       "  </tbody>\n",
       "</table>\n",
       "</div>"
      ],
      "text/plain": [
       "       Item_Identifier Item_Fat_Content              Item_Type  \\\n",
       "count             8523             8523                   8523   \n",
       "unique            1559                5                     16   \n",
       "top              FDG33          Low Fat  Fruits and Vegetables   \n",
       "freq                10             5089                   1232   \n",
       "\n",
       "       Outlet_Identifier Outlet_Size Outlet_Location_Type        Outlet_Type  \n",
       "count               8523        6113                 8523               8523  \n",
       "unique                10           3                    3                  4  \n",
       "top               OUT027      Medium               Tier 3  Supermarket Type1  \n",
       "freq                 935        2793                 3350               5577  "
      ]
     },
     "execution_count": 9,
     "metadata": {},
     "output_type": "execute_result"
    }
   ],
   "source": [
    "## Display the descriptive statistics for the non-numeric columns\n",
    "df.describe(exclude=\"number\") # or 'object'"
   ]
  },
  {
   "cell_type": "markdown",
   "metadata": {
    "id": "2ej75b3IxrUI"
   },
   "source": [
    "## **2. Clean the Data**"
   ]
  },
  {
   "cell_type": "markdown",
   "metadata": {
    "id": "ikOKKNOP4WQm"
   },
   "source": [
    "### **Remove Unnecessary Columns**"
   ]
  },
  {
   "cell_type": "markdown",
   "metadata": {
    "id": "zmGYpgDP4dyJ"
   },
   "source": [
    "- There are no columns to be dropped."
   ]
  },
  {
   "cell_type": "markdown",
   "metadata": {
    "id": "2Y3eeg5twyGe"
   },
   "source": [
    "### **Remove Unecessary Rows**"
   ]
  },
  {
   "cell_type": "markdown",
   "metadata": {
    "id": "gUs42XXQ4vOY"
   },
   "source": [
    "#### **Duplicates**"
   ]
  },
  {
   "cell_type": "code",
   "execution_count": 10,
   "metadata": {
    "colab": {
     "base_uri": "https://localhost:8080/"
    },
    "executionInfo": {
     "elapsed": 8,
     "status": "ok",
     "timestamp": 1675132903810,
     "user": {
      "displayName": "Yvon Bilodeau",
      "userId": "10142856831792134633"
     },
     "user_tz": 480
    },
    "id": "hoN-7TB-rFY7",
    "outputId": "e06da526-50ac-41ca-e000-80c5776c1ca4"
   },
   "outputs": [
    {
     "name": "stdout",
     "output_type": "stream",
     "text": [
      "There are 0 duplicate rows.\n"
     ]
    }
   ],
   "source": [
    "## Display the number of duplicate rows in the dataset\n",
    "print(f'There are {df.duplicated().sum()} duplicate rows.')"
   ]
  },
  {
   "cell_type": "code",
   "execution_count": 11,
   "metadata": {
    "id": "qDODZVvrwj-5"
   },
   "outputs": [],
   "source": [
    "## Drop duplicate rows\n",
    "df = df.drop_duplicates()"
   ]
  },
  {
   "cell_type": "code",
   "execution_count": 12,
   "metadata": {
    "colab": {
     "base_uri": "https://localhost:8080/"
    },
    "executionInfo": {
     "elapsed": 12,
     "status": "ok",
     "timestamp": 1675132903963,
     "user": {
      "displayName": "Yvon Bilodeau",
      "userId": "10142856831792134633"
     },
     "user_tz": 480
    },
    "id": "HNlVTwf919LX",
    "outputId": "f40e53ea-9779-4f33-fda3-db6733634a31"
   },
   "outputs": [
    {
     "name": "stdout",
     "output_type": "stream",
     "text": [
      "There are 0 duplicate rows.\n"
     ]
    }
   ],
   "source": [
    "## Confirm duplicate rows have been dropped\n",
    "print(f'There are {df.duplicated().sum()} duplicate rows.')"
   ]
  },
  {
   "cell_type": "markdown",
   "metadata": {
    "id": "E2o8B9Da5ES_"
   },
   "source": [
    "### **Inspect Column Datatypes for Errors**"
   ]
  },
  {
   "cell_type": "code",
   "execution_count": 13,
   "metadata": {
    "colab": {
     "base_uri": "https://localhost:8080/"
    },
    "executionInfo": {
     "elapsed": 10,
     "status": "ok",
     "timestamp": 1675132903963,
     "user": {
      "displayName": "Yvon Bilodeau",
      "userId": "10142856831792134633"
     },
     "user_tz": 480
    },
    "id": "G5O-ZPIn5I5b",
    "outputId": "06eec69b-3128-415b-bfc4-6ddc76d657e3"
   },
   "outputs": [
    {
     "data": {
      "text/plain": [
       "Item_Identifier               object\n",
       "Item_Weight                  float64\n",
       "Item_Fat_Content              object\n",
       "Item_Visibility              float64\n",
       "Item_Type                     object\n",
       "Item_MRP                     float64\n",
       "Outlet_Identifier             object\n",
       "Outlet_Establishment_Year      int64\n",
       "Outlet_Size                   object\n",
       "Outlet_Location_Type          object\n",
       "Outlet_Type                   object\n",
       "Item_Outlet_Sales            float64\n",
       "dtype: object"
      ]
     },
     "execution_count": 13,
     "metadata": {},
     "output_type": "execute_result"
    }
   ],
   "source": [
    "## Display column names and datatypes\n",
    "df.dtypes"
   ]
  },
  {
   "cell_type": "markdown",
   "metadata": {
    "id": "CwcmeUrk5Las"
   },
   "source": [
    "- All collumns appear to have the appropriate data types."
   ]
  },
  {
   "cell_type": "markdown",
   "metadata": {
    "id": "j1LcxDaP5d2Z"
   },
   "source": [
    "### **Inspect Column Names for Errors**\n"
   ]
  },
  {
   "cell_type": "markdown",
   "metadata": {
    "id": "WFl7uzmB5hwR"
   },
   "source": [
    "- Check for common syntax errors which may include extra white spaces at the beginning or end of strings or column names.\n",
    "\n",
    "- Check for typos or inconsistencies in strings that need to be fixed.(example: cat, Cat, cats)"
   ]
  },
  {
   "cell_type": "code",
   "execution_count": 14,
   "metadata": {
    "colab": {
     "base_uri": "https://localhost:8080/"
    },
    "executionInfo": {
     "elapsed": 6,
     "status": "ok",
     "timestamp": 1675132903963,
     "user": {
      "displayName": "Yvon Bilodeau",
      "userId": "10142856831792134633"
     },
     "user_tz": 480
    },
    "id": "xDTTAqe55lqx",
    "outputId": "0e74e73f-b7e9-463b-b1e3-45eb6c5af61a"
   },
   "outputs": [
    {
     "data": {
      "text/plain": [
       "Index(['Item_Identifier', 'Item_Weight', 'Item_Fat_Content', 'Item_Visibility',\n",
       "       'Item_Type', 'Item_MRP', 'Outlet_Identifier',\n",
       "       'Outlet_Establishment_Year', 'Outlet_Size', 'Outlet_Location_Type',\n",
       "       'Outlet_Type', 'Item_Outlet_Sales'],\n",
       "      dtype='object')"
      ]
     },
     "execution_count": 14,
     "metadata": {},
     "output_type": "execute_result"
    }
   ],
   "source": [
    "## Display column names\n",
    "df.columns"
   ]
  },
  {
   "cell_type": "markdown",
   "metadata": {
    "id": "isn_RR3N8Y6s"
   },
   "source": [
    "- No errors noted."
   ]
  },
  {
   "cell_type": "markdown",
   "metadata": {
    "id": "lSKa6dT35vpH"
   },
   "source": [
    "### **Inspect Values for Errors**"
   ]
  },
  {
   "cell_type": "markdown",
   "metadata": {
    "id": "2kx6fObB6S-3"
   },
   "source": [
    "#### **Numeric Columns**"
   ]
  },
  {
   "cell_type": "markdown",
   "metadata": {
    "id": "I2Va76r953L1"
   },
   "source": [
    "- Check for unusual or impossible values. (Example a weight, or height that is negative in value.)"
   ]
  },
  {
   "cell_type": "code",
   "execution_count": 15,
   "metadata": {
    "colab": {
     "base_uri": "https://localhost:8080/",
     "height": 297
    },
    "executionInfo": {
     "elapsed": 204,
     "status": "ok",
     "timestamp": 1675132904165,
     "user": {
      "displayName": "Yvon Bilodeau",
      "userId": "10142856831792134633"
     },
     "user_tz": 480
    },
    "id": "oU746oh-6OQc",
    "outputId": "27a7bff1-09be-4855-edbb-8a5c3fc6cb7f"
   },
   "outputs": [
    {
     "data": {
      "text/html": [
       "<div>\n",
       "<style scoped>\n",
       "    .dataframe tbody tr th:only-of-type {\n",
       "        vertical-align: middle;\n",
       "    }\n",
       "\n",
       "    .dataframe tbody tr th {\n",
       "        vertical-align: top;\n",
       "    }\n",
       "\n",
       "    .dataframe thead th {\n",
       "        text-align: right;\n",
       "    }\n",
       "</style>\n",
       "<table border=\"1\" class=\"dataframe\">\n",
       "  <thead>\n",
       "    <tr style=\"text-align: right;\">\n",
       "      <th></th>\n",
       "      <th>Item_Weight</th>\n",
       "      <th>Item_Visibility</th>\n",
       "      <th>Item_MRP</th>\n",
       "      <th>Outlet_Establishment_Year</th>\n",
       "      <th>Item_Outlet_Sales</th>\n",
       "    </tr>\n",
       "  </thead>\n",
       "  <tbody>\n",
       "    <tr>\n",
       "      <th>count</th>\n",
       "      <td>7060.000000</td>\n",
       "      <td>8523.000000</td>\n",
       "      <td>8523.000000</td>\n",
       "      <td>8523.000000</td>\n",
       "      <td>8523.000000</td>\n",
       "    </tr>\n",
       "    <tr>\n",
       "      <th>mean</th>\n",
       "      <td>12.857645</td>\n",
       "      <td>0.066132</td>\n",
       "      <td>140.992782</td>\n",
       "      <td>1997.831867</td>\n",
       "      <td>2181.288914</td>\n",
       "    </tr>\n",
       "    <tr>\n",
       "      <th>std</th>\n",
       "      <td>4.643456</td>\n",
       "      <td>0.051598</td>\n",
       "      <td>62.275067</td>\n",
       "      <td>8.371760</td>\n",
       "      <td>1706.499616</td>\n",
       "    </tr>\n",
       "    <tr>\n",
       "      <th>min</th>\n",
       "      <td>4.555000</td>\n",
       "      <td>0.000000</td>\n",
       "      <td>31.290000</td>\n",
       "      <td>1985.000000</td>\n",
       "      <td>33.290000</td>\n",
       "    </tr>\n",
       "    <tr>\n",
       "      <th>25%</th>\n",
       "      <td>8.773750</td>\n",
       "      <td>0.026989</td>\n",
       "      <td>93.826500</td>\n",
       "      <td>1987.000000</td>\n",
       "      <td>834.247400</td>\n",
       "    </tr>\n",
       "    <tr>\n",
       "      <th>50%</th>\n",
       "      <td>12.600000</td>\n",
       "      <td>0.053931</td>\n",
       "      <td>143.012800</td>\n",
       "      <td>1999.000000</td>\n",
       "      <td>1794.331000</td>\n",
       "    </tr>\n",
       "    <tr>\n",
       "      <th>75%</th>\n",
       "      <td>16.850000</td>\n",
       "      <td>0.094585</td>\n",
       "      <td>185.643700</td>\n",
       "      <td>2004.000000</td>\n",
       "      <td>3101.296400</td>\n",
       "    </tr>\n",
       "    <tr>\n",
       "      <th>max</th>\n",
       "      <td>21.350000</td>\n",
       "      <td>0.328391</td>\n",
       "      <td>266.888400</td>\n",
       "      <td>2009.000000</td>\n",
       "      <td>13086.964800</td>\n",
       "    </tr>\n",
       "  </tbody>\n",
       "</table>\n",
       "</div>"
      ],
      "text/plain": [
       "       Item_Weight  Item_Visibility     Item_MRP  Outlet_Establishment_Year  \\\n",
       "count  7060.000000      8523.000000  8523.000000                8523.000000   \n",
       "mean     12.857645         0.066132   140.992782                1997.831867   \n",
       "std       4.643456         0.051598    62.275067                   8.371760   \n",
       "min       4.555000         0.000000    31.290000                1985.000000   \n",
       "25%       8.773750         0.026989    93.826500                1987.000000   \n",
       "50%      12.600000         0.053931   143.012800                1999.000000   \n",
       "75%      16.850000         0.094585   185.643700                2004.000000   \n",
       "max      21.350000         0.328391   266.888400                2009.000000   \n",
       "\n",
       "       Item_Outlet_Sales  \n",
       "count        8523.000000  \n",
       "mean         2181.288914  \n",
       "std          1706.499616  \n",
       "min            33.290000  \n",
       "25%           834.247400  \n",
       "50%          1794.331000  \n",
       "75%          3101.296400  \n",
       "max         13086.964800  "
      ]
     },
     "execution_count": 15,
     "metadata": {},
     "output_type": "execute_result"
    }
   ],
   "source": [
    "## Display the descriptive statistics for the non-numeric columns\n",
    "df.describe(include=\"number\")"
   ]
  },
  {
   "cell_type": "markdown",
   "metadata": {
    "id": "r36V_QuY8sSj"
   },
   "source": [
    "- No unusual values noted."
   ]
  },
  {
   "cell_type": "markdown",
   "metadata": {
    "id": "ZwhYV3YB6mda"
   },
   "source": [
    "#### **Categorical Columns**"
   ]
  },
  {
   "cell_type": "markdown",
   "metadata": {
    "id": "z40QdFnw67Zt"
   },
   "source": [
    "- No unusual values noted."
   ]
  },
  {
   "cell_type": "markdown",
   "metadata": {
    "id": "M3cMg8K6WsGU"
   },
   "source": [
    "### **Missing Values**"
   ]
  },
  {
   "cell_type": "code",
   "execution_count": 16,
   "metadata": {
    "colab": {
     "base_uri": "https://localhost:8080/"
    },
    "executionInfo": {
     "elapsed": 8,
     "status": "ok",
     "timestamp": 1675132904166,
     "user": {
      "displayName": "Yvon Bilodeau",
      "userId": "10142856831792134633"
     },
     "user_tz": 480
    },
    "id": "CumHMJI23fOY",
    "outputId": "939a3dac-25c6-49aa-8739-db77033c12e7"
   },
   "outputs": [
    {
     "name": "stdout",
     "output_type": "stream",
     "text": [
      "There are 3873 missing values.\n"
     ]
    }
   ],
   "source": [
    "## Display the total number of missing values\n",
    "print(f'There are {df.isna().sum().sum()} missing values.')"
   ]
  },
  {
   "cell_type": "code",
   "execution_count": 17,
   "metadata": {
    "colab": {
     "base_uri": "https://localhost:8080/"
    },
    "executionInfo": {
     "elapsed": 163,
     "status": "ok",
     "timestamp": 1675132904326,
     "user": {
      "displayName": "Yvon Bilodeau",
      "userId": "10142856831792134633"
     },
     "user_tz": 480
    },
    "id": "vs1q_1r-3Kg3",
    "outputId": "578df910-c879-4eba-cfc9-70627eb757cc"
   },
   "outputs": [
    {
     "name": "stdout",
     "output_type": "stream",
     "text": [
      "Item_Identifier                 0\n",
      "Item_Weight                  1463\n",
      "Item_Fat_Content                0\n",
      "Item_Visibility                 0\n",
      "Item_Type                       0\n",
      "Item_MRP                        0\n",
      "Outlet_Identifier               0\n",
      "Outlet_Establishment_Year       0\n",
      "Outlet_Size                  2410\n",
      "Outlet_Location_Type            0\n",
      "Outlet_Type                     0\n",
      "Item_Outlet_Sales               0\n",
      "dtype: int64\n"
     ]
    }
   ],
   "source": [
    "## Display the count of missing values by column\n",
    "print(df.isna().sum())"
   ]
  },
  {
   "cell_type": "code",
   "execution_count": 18,
   "metadata": {
    "colab": {
     "base_uri": "https://localhost:8080/"
    },
    "executionInfo": {
     "elapsed": 7,
     "status": "ok",
     "timestamp": 1675132904326,
     "user": {
      "displayName": "Yvon Bilodeau",
      "userId": "10142856831792134633"
     },
     "user_tz": 480
    },
    "id": "7KxJsw5a3LFh",
    "outputId": "1b56a8b1-5d6f-4eaa-ccb4-ba3db809caf2"
   },
   "outputs": [
    {
     "name": "stdout",
     "output_type": "stream",
     "text": [
      "Item_Identifier               0.000000\n",
      "Item_Weight                  17.165317\n",
      "Item_Fat_Content              0.000000\n",
      "Item_Visibility               0.000000\n",
      "Item_Type                     0.000000\n",
      "Item_MRP                      0.000000\n",
      "Outlet_Identifier             0.000000\n",
      "Outlet_Establishment_Year     0.000000\n",
      "Outlet_Size                  28.276428\n",
      "Outlet_Location_Type          0.000000\n",
      "Outlet_Type                   0.000000\n",
      "Item_Outlet_Sales             0.000000\n",
      "dtype: float64\n"
     ]
    }
   ],
   "source": [
    "## Display the percentage of missing values by column\n",
    "print(df.isna().sum()/len(df)*100)"
   ]
  },
  {
   "cell_type": "code",
   "execution_count": 20,
   "metadata": {},
   "outputs": [
    {
     "data": {
      "text/plain": [
       "<matplotlib.axes._subplots.AxesSubplot at 0x25220d92808>"
      ]
     },
     "execution_count": 20,
     "metadata": {},
     "output_type": "execute_result"
    },
    {
     "data": {
      "image/png": "[encoded data removed]",
      "text/plain": [
       "<Figure size 1800x720 with 2 Axes>"
      ]
     },
     "metadata": {
      "needs_background": "light"
     },
     "output_type": "display_data"
    }
   ],
   "source": [
    "import missingno as msno\n",
    "msno.matrix(df)"
   ]
  },
  {
   "cell_type": "markdown",
   "metadata": {
    "id": "cSJD1uJqG7i4"
   },
   "source": [
    "- There are missing values we will need to impute the mean and mode. \n",
    " - We will not need to use SimpleImputer in our preprocessing steps.\n",
    "\n",
    "- **Never use fillna() to impute values prior to Train_Test_Split, as it would cause data leakage**"
   ]
  },
  {
   "cell_type": "code",
   "execution_count": 21,
   "metadata": {},
   "outputs": [],
   "source": [
    "df.drop([\"Item_Identifier\"], axis  =  1, inplace = True)"
   ]
  },
  {
   "cell_type": "code",
   "execution_count": 22,
   "metadata": {},
   "outputs": [],
   "source": [
    "# I will replace missing value in items_weight column with the mean, since it is a column with numrical value\n",
    "mean = df['Item_Weight'].mean()\n",
    "df['Item_Weight'].fillna(mean, inplace=True)"
   ]
  },
  {
   "cell_type": "code",
   "execution_count": 23,
   "metadata": {},
   "outputs": [],
   "source": [
    "# There are 2410 missing value for outlet_size column, dropping them will result to much loss of our data. \n",
    "# We will use ffil method to replace missing value\n",
    "df['Outlet_Size'].fillna(method='ffill', inplace=True)"
   ]
  },
  {
   "cell_type": "code",
   "execution_count": 42,
   "metadata": {},
   "outputs": [
    {
     "data": {
      "text/plain": [
       "<matplotlib.axes._subplots.AxesSubplot at 0x18699932748>"
      ]
     },
     "execution_count": 42,
     "metadata": {},
     "output_type": "execute_result"
    },
    {
     "data": {
      "image/png": "[encoded data removed]",
      "text/plain": [
       "<Figure size 432x288 with 2 Axes>"
      ]
     },
     "metadata": {
      "needs_background": "light"
     },
     "output_type": "display_data"
    }
   ],
   "source": [
    "sns.heatmap(df.corr(), annot = False)"
   ]
  },
  {
   "cell_type": "markdown",
   "metadata": {
    "id": "4LDOtl5IBKVT"
   },
   "source": [
    "## **3. Split the Data**\n",
    "\n"
   ]
  },
  {
   "cell_type": "code",
   "execution_count": 24,
   "metadata": {
    "id": "1DfQnaMQ2Sz_"
   },
   "outputs": [],
   "source": [
    "## Define features (X) and target (y)\n",
    "target = 'Item_Outlet_Sales'\n",
    "X = df.drop(columns = [target]).copy()\n",
    "y = df[target].copy()\n"
   ]
  },
  {
   "cell_type": "code",
   "execution_count": 25,
   "metadata": {
    "id": "P3N4hyHXB6ln"
   },
   "outputs": [],
   "source": [
    "## Split\n",
    "X_train, X_test, y_train, y_test = train_test_split(X, y, random_state=42)"
   ]
  },
  {
   "cell_type": "markdown",
   "metadata": {
    "id": "_GS1-guIy2Sg"
   },
   "source": [
    "## **4. Prepare the Data**"
   ]
  },
  {
   "cell_type": "markdown",
   "metadata": {
    "id": "KIPZTqcpFAi1"
   },
   "source": [
    "### **Identify the datatypes for each feature**\n"
   ]
  },
  {
   "cell_type": "markdown",
   "metadata": {
    "id": "VIZAjsq77nA1"
   },
   "source": [
    "### **ColumnSelector**\n"
   ]
  },
  {
   "cell_type": "code",
   "execution_count": 26,
   "metadata": {
    "id": "dPs3aOaQt-Xk"
   },
   "outputs": [],
   "source": [
    "## Instantiate the column selectors\n",
    "num_selector = make_column_selector(dtype_include='number')\n",
    "cat_selector = make_column_selector(dtype_include='object')"
   ]
  },
  {
   "cell_type": "markdown",
   "metadata": {
    "id": "59wBw6hkGMP5"
   },
   "source": [
    "### **Imputers**"
   ]
  },
  {
   "cell_type": "markdown",
   "metadata": {
    "id": "YtNzzcQ6GOxA"
   },
   "source": [
    "- Not required, there are no missing values in this dataset to be imputed."
   ]
  },
  {
   "cell_type": "markdown",
   "metadata": {
    "id": "BYSDsphd8h90"
   },
   "source": [
    "### **Transformers**\n",
    "\n"
   ]
  },
  {
   "cell_type": "code",
   "execution_count": 27,
   "metadata": {
    "id": "tB7nRM9Gt-UY"
   },
   "outputs": [],
   "source": [
    "## Instantiate the transformers\n",
    "scaler = StandardScaler()\n",
    "ohe = OneHotEncoder(sparse=False, handle_unknown='ignore')"
   ]
  },
  {
   "cell_type": "markdown",
   "metadata": {
    "id": "ZAxHHWIJA8A7"
   },
   "source": [
    "### **Tuples**"
   ]
  },
  {
   "cell_type": "code",
   "execution_count": 28,
   "metadata": {
    "id": "4Ls8U7TlY9fy"
   },
   "outputs": [],
   "source": [
    "## Create tuples\n",
    "number_tuple = (scaler, num_selector)\n",
    "category_tuple = (ohe, cat_selector)"
   ]
  },
  {
   "cell_type": "markdown",
   "metadata": {
    "id": "TGVWrSqi9sSE"
   },
   "source": [
    "### **ColumnTransformer**\n"
   ]
  },
  {
   "cell_type": "code",
   "execution_count": 29,
   "metadata": {
    "id": "kJPxKm2qZJmv"
   },
   "outputs": [],
   "source": [
    "## Create the preprocessor using make_column_transformer\n",
    "preprocessor = make_column_transformer(number_tuple, \n",
    "                                       category_tuple, \n",
    "                                       remainder='drop')"
   ]
  },
  {
   "cell_type": "markdown",
   "metadata": {
    "id": "kubszhRR0SRP"
   },
   "source": [
    "## **5. Model the Data**"
   ]
  },
  {
   "cell_type": "markdown",
   "metadata": {
    "id": "K6GsTSNXzCHh"
   },
   "source": [
    "### **Baseline Model**\n",
    "- Instantiate the baseline model using the 'mean' strategy.\n",
    "- Create a model pipeline using the preprocessor and model.\n",
    "- Fit the model pipeline with the X_train dataset.(Never fit on X_test.)\n"
   ]
  },
  {
   "cell_type": "code",
   "execution_count": 49,
   "metadata": {
    "colab": {
     "base_uri": "https://localhost:8080/",
     "height": 188
    },
    "executionInfo": {
     "elapsed": 146,
     "status": "ok",
     "timestamp": 1675132904634,
     "user": {
      "displayName": "Yvon Bilodeau",
      "userId": "10142856831792134633"
     },
     "user_tz": 480
    },
    "id": "QQ2oToLcxyFG",
    "outputId": "c90cb76e-084b-4ded-a15d-3645f74fdd69"
   },
   "outputs": [
    {
     "data": {
      "text/plain": [
       "Pipeline(steps=[('columntransformer',\n",
       "                 ColumnTransformer(transformers=[('standardscaler',\n",
       "                                                  StandardScaler(),\n",
       "                                                  <sklearn.compose._column_transformer.make_column_selector object at 0x000001869BC0E308>),\n",
       "                                                 ('onehotencoder',\n",
       "                                                  OneHotEncoder(handle_unknown='ignore',\n",
       "                                                                sparse=False),\n",
       "                                                  <sklearn.compose._column_transformer.make_column_selector object at 0x000001869BC0E4C8>)])),\n",
       "                ('dummyregressor', DummyRegressor())])"
      ]
     },
     "execution_count": 49,
     "metadata": {},
     "output_type": "execute_result"
    }
   ],
   "source": [
    "## Create an instance of the model\n",
    "dummy = DummyRegressor(strategy='mean')\n",
    "\n",
    "## Create a model pipeline\n",
    "dummy_pipe = make_pipeline(preprocessor, dummy)\n",
    "\n",
    "## Fit the model\n",
    "dummy_pipe.fit(X_train, y_train)"
   ]
  },
  {
   "cell_type": "markdown",
   "metadata": {
    "id": "D4EaiwDCza4w"
   },
   "source": [
    "#### **Metrics**\n"
   ]
  },
  {
   "cell_type": "code",
   "execution_count": 50,
   "metadata": {
    "colab": {
     "base_uri": "https://localhost:8080/"
    },
    "executionInfo": {
     "elapsed": 301,
     "status": "ok",
     "timestamp": 1675132904934,
     "user": {
      "displayName": "Yvon Bilodeau",
      "userId": "10142856831792134633"
     },
     "user_tz": 480
    },
    "id": "yCILuEfkC60Y",
    "outputId": "aeec0920-8901-43ab-876e-7bc0569c1bf5"
   },
   "outputs": [
    {
     "name": "stdout",
     "output_type": "stream",
     "text": [
      "Dummy Model Train Scores\n",
      "MAE: 1,360.2184 \n",
      "MSE: 2,959,455.7045 \n",
      "RMSE: 1,720.3069 \n",
      "R2: 0.0000\n",
      "\n",
      "Dummy Model Test Scores\n",
      "MAE: 1,326.1210 \n",
      "MSE: 2,772,144.4627 \n",
      "RMSE: 1,664.9758 \n",
      "R2: -0.0048\n",
      "\n"
     ]
    }
   ],
   "source": [
    "## Display model performance metrics using a function\n",
    "model_metrics(dummy_pipe, x_train=X_train, y_train=y_train, \n",
    "                          x_test=X_test, y_test=y_test, \n",
    "                           model_name='Dummy Model')"
   ]
  },
  {
   "cell_type": "markdown",
   "metadata": {
    "id": "gh9WUuYQzi0R"
   },
   "source": [
    "### **Linear Regression Model**\n",
    "- Instantiate the model.\n",
    "- Create a model pipeline using the preprocessor and model.\n",
    "- Fit the model pipeline on the X_train dataset. (Never fit on X_test.)\n"
   ]
  },
  {
   "cell_type": "code",
   "execution_count": 51,
   "metadata": {
    "colab": {
     "base_uri": "https://localhost:8080/",
     "height": 188
    },
    "executionInfo": {
     "elapsed": 394,
     "status": "ok",
     "timestamp": 1675132905325,
     "user": {
      "displayName": "Yvon Bilodeau",
      "userId": "10142856831792134633"
     },
     "user_tz": 480
    },
    "id": "Zcl1DGMQZhRi",
    "outputId": "737567ea-c87e-44ec-888b-3d349bb975fc"
   },
   "outputs": [
    {
     "data": {
      "text/plain": [
       "Pipeline(steps=[('columntransformer',\n",
       "                 ColumnTransformer(transformers=[('standardscaler',\n",
       "                                                  StandardScaler(),\n",
       "                                                  <sklearn.compose._column_transformer.make_column_selector object at 0x000001869BC0E308>),\n",
       "                                                 ('onehotencoder',\n",
       "                                                  OneHotEncoder(handle_unknown='ignore',\n",
       "                                                                sparse=False),\n",
       "                                                  <sklearn.compose._column_transformer.make_column_selector object at 0x000001869BC0E4C8>)])),\n",
       "                ('linearregression', LinearRegression())])"
      ]
     },
     "execution_count": 51,
     "metadata": {},
     "output_type": "execute_result"
    }
   ],
   "source": [
    "## Create an instance of the model\n",
    "lin_reg = LinearRegression()\n",
    "\n",
    "## Create a model pipeline\n",
    "lin_reg_pipe = make_pipeline(preprocessor, lin_reg)\n",
    "\n",
    "## Fit the model\n",
    "lin_reg_pipe.fit(X_train, y_train)"
   ]
  },
  {
   "cell_type": "markdown",
   "metadata": {
    "id": "aBTOuuxvd9lH"
   },
   "source": [
    "#### **Metrics**"
   ]
  },
  {
   "cell_type": "code",
   "execution_count": 52,
   "metadata": {
    "colab": {
     "base_uri": "https://localhost:8080/"
    },
    "executionInfo": {
     "elapsed": 3,
     "status": "ok",
     "timestamp": 1675132905325,
     "user": {
      "displayName": "Yvon Bilodeau",
      "userId": "10142856831792134633"
     },
     "user_tz": 480
    },
    "id": "gNpZz9XVrpG4",
    "outputId": "2f97387d-562f-41e5-f5e9-c1062c829db5"
   },
   "outputs": [
    {
     "name": "stdout",
     "output_type": "stream",
     "text": [
      "Linear Regression Train Scores\n",
      "MAE: 847.1955 \n",
      "MSE: 1,297,153.4539 \n",
      "RMSE: 1,138.9264 \n",
      "R2: 0.5617\n",
      "\n",
      "Linear Regression Test Scores\n",
      "MAE: 804.1612 \n",
      "MSE: 1,194,862.5341 \n",
      "RMSE: 1,093.0977 \n",
      "R2: 0.5669\n",
      "\n"
     ]
    }
   ],
   "source": [
    "## Display model performance metrics using a function\n",
    "model_metrics(lin_reg_pipe, x_train=X_train, y_train=y_train, \n",
    "                          x_test=X_test, y_test=y_test, \n",
    "                           model_name='Linear Regression')"
   ]
  },
  {
   "cell_type": "markdown",
   "metadata": {
    "id": "szo2w00n-624"
   },
   "source": [
    "### **Decision Tree Model**"
   ]
  },
  {
   "cell_type": "code",
   "execution_count": 53,
   "metadata": {
    "id": "-5nc1bEM_dcC"
   },
   "outputs": [],
   "source": [
    "## Import the model\n",
    "from sklearn.tree import DecisionTreeRegressor"
   ]
  },
  {
   "cell_type": "code",
   "execution_count": 54,
   "metadata": {
    "colab": {
     "base_uri": "https://localhost:8080/",
     "height": 257
    },
    "executionInfo": {
     "elapsed": 253,
     "status": "ok",
     "timestamp": 1675132906007,
     "user": {
      "displayName": "Yvon Bilodeau",
      "userId": "10142856831792134633"
     },
     "user_tz": 480
    },
    "id": "KdcYOmu9-625",
    "outputId": "bc38bc89-f02b-4612-f720-0d103d578d35"
   },
   "outputs": [
    {
     "data": {
      "text/plain": [
       "Pipeline(steps=[('columntransformer',\n",
       "                 ColumnTransformer(transformers=[('standardscaler',\n",
       "                                                  StandardScaler(),\n",
       "                                                  <sklearn.compose._column_transformer.make_column_selector object at 0x000001869BC0E308>),\n",
       "                                                 ('onehotencoder',\n",
       "                                                  OneHotEncoder(handle_unknown='ignore',\n",
       "                                                                sparse=False),\n",
       "                                                  <sklearn.compose._column_transformer.make_column_selector object at 0x000001869BC0E4C8>)])),\n",
       "                ('decisiontreeregressor', DecisionTreeRegressor())])"
      ]
     },
     "execution_count": 54,
     "metadata": {},
     "output_type": "execute_result"
    }
   ],
   "source": [
    "## Create an instance of the model\n",
    "dec_tree = DecisionTreeRegressor()\n",
    "\n",
    "## Create a model pipeline\n",
    "dec_tree_pipe = make_pipeline(preprocessor, dec_tree)\n",
    "\n",
    "## Fit the model\n",
    "dec_tree_pipe.fit(X_train, y_train)"
   ]
  },
  {
   "cell_type": "code",
   "execution_count": 55,
   "metadata": {
    "colab": {
     "base_uri": "https://localhost:8080/"
    },
    "executionInfo": {
     "elapsed": 368,
     "status": "ok",
     "timestamp": 1675132906373,
     "user": {
      "displayName": "Yvon Bilodeau",
      "userId": "10142856831792134633"
     },
     "user_tz": 480
    },
    "id": "yuYZ0shI-625",
    "outputId": "cf80bbcb-d94f-4d86-a843-8c5a74941060"
   },
   "outputs": [
    {
     "name": "stdout",
     "output_type": "stream",
     "text": [
      "Decision Tree Model Train Scores\n",
      "MAE: 0.0000 \n",
      "MSE: 0.0000 \n",
      "RMSE: 0.0000 \n",
      "R2: 1.0000\n",
      "\n",
      "Decision Tree Model Test Scores\n",
      "MAE: 1,043.9544 \n",
      "MSE: 2,243,273.0166 \n",
      "RMSE: 1,497.7560 \n",
      "R2: 0.1869\n",
      "\n"
     ]
    }
   ],
   "source": [
    "## Display model performance metrics using a function\n",
    "model_metrics(dec_tree_pipe, x_train=X_train, y_train=y_train, \n",
    "                          x_test=X_test, y_test=y_test, \n",
    "                           model_name='Decision Tree Model')"
   ]
  },
  {
   "cell_type": "markdown",
   "metadata": {
    "id": "SmQ1TqM2Jd3s"
   },
   "source": [
    "### **Bagged Tree Model**"
   ]
  },
  {
   "cell_type": "code",
   "execution_count": 56,
   "metadata": {
    "id": "AJmFkOct_uTh"
   },
   "outputs": [],
   "source": [
    "## Import the model\n",
    "from sklearn.ensemble import BaggingRegressor"
   ]
  },
  {
   "cell_type": "code",
   "execution_count": 57,
   "metadata": {
    "colab": {
     "base_uri": "https://localhost:8080/",
     "height": 188
    },
    "executionInfo": {
     "elapsed": 1022,
     "status": "ok",
     "timestamp": 1675132907516,
     "user": {
      "displayName": "Yvon Bilodeau",
      "userId": "10142856831792134633"
     },
     "user_tz": 480
    },
    "id": "5-rFkHmGJnOq",
    "outputId": "91d6d9d4-5a90-4f43-c5e1-79a573fef11b"
   },
   "outputs": [
    {
     "data": {
      "text/plain": [
       "Pipeline(steps=[('columntransformer',\n",
       "                 ColumnTransformer(transformers=[('standardscaler',\n",
       "                                                  StandardScaler(),\n",
       "                                                  <sklearn.compose._column_transformer.make_column_selector object at 0x000001869BC0E308>),\n",
       "                                                 ('onehotencoder',\n",
       "                                                  OneHotEncoder(handle_unknown='ignore',\n",
       "                                                                sparse=False),\n",
       "                                                  <sklearn.compose._column_transformer.make_column_selector object at 0x000001869BC0E4C8>)])),\n",
       "                ('baggingregressor', BaggingRegressor())])"
      ]
     },
     "execution_count": 57,
     "metadata": {},
     "output_type": "execute_result"
    }
   ],
   "source": [
    "# Create an instance of the model\n",
    "bag_tree = BaggingRegressor()\n",
    "\n",
    "# Create a model pipeline\n",
    "bag_tree_pipe = make_pipeline(preprocessor, bag_tree)\n",
    "\n",
    "# Fit the model\n",
    "bag_tree_pipe.fit(X_train, y_train)"
   ]
  },
  {
   "cell_type": "code",
   "execution_count": 58,
   "metadata": {
    "colab": {
     "base_uri": "https://localhost:8080/"
    },
    "executionInfo": {
     "elapsed": 545,
     "status": "ok",
     "timestamp": 1675132908059,
     "user": {
      "displayName": "Yvon Bilodeau",
      "userId": "10142856831792134633"
     },
     "user_tz": 480
    },
    "id": "zuhkr81qJqcq",
    "outputId": "6672d207-1840-4391-f525-37f1275e0b66"
   },
   "outputs": [
    {
     "name": "stdout",
     "output_type": "stream",
     "text": [
      "Bagged Tree Model Train Scores\n",
      "MAE: 322.7450 \n",
      "MSE: 248,088.6065 \n",
      "RMSE: 498.0849 \n",
      "R2: 0.9162\n",
      "\n",
      "Bagged Tree Model Test Scores\n",
      "MAE: 788.3592 \n",
      "MSE: 1,315,890.8594 \n",
      "RMSE: 1,147.1229 \n",
      "R2: 0.5231\n",
      "\n"
     ]
    }
   ],
   "source": [
    "## Display model performance metrics using a function\n",
    "model_metrics(bag_tree_pipe, x_train=X_train, y_train=y_train, \n",
    "                          x_test=X_test, y_test=y_test, \n",
    "                           model_name='Bagged Tree Model')"
   ]
  },
  {
   "cell_type": "markdown",
   "metadata": {
    "id": "COxmz04b-cf0"
   },
   "source": [
    "### **Random Forest Model**"
   ]
  },
  {
   "cell_type": "code",
   "execution_count": 59,
   "metadata": {
    "id": "Y9U0cXfy_0TN"
   },
   "outputs": [],
   "source": [
    "## Import the model\n",
    "from sklearn.ensemble import RandomForestRegressor"
   ]
  },
  {
   "cell_type": "code",
   "execution_count": 60,
   "metadata": {
    "colab": {
     "base_uri": "https://localhost:8080/",
     "height": 188
    },
    "executionInfo": {
     "elapsed": 12811,
     "status": "ok",
     "timestamp": 1675132920869,
     "user": {
      "displayName": "Yvon Bilodeau",
      "userId": "10142856831792134633"
     },
     "user_tz": 480
    },
    "id": "iDrXoQk0-cf1",
    "outputId": "4f4a83a6-001a-4e4d-98ae-187cfd0a1813"
   },
   "outputs": [
    {
     "data": {
      "text/plain": [
       "Pipeline(steps=[('columntransformer',\n",
       "                 ColumnTransformer(transformers=[('standardscaler',\n",
       "                                                  StandardScaler(),\n",
       "                                                  <sklearn.compose._column_transformer.make_column_selector object at 0x000001869BC0E308>),\n",
       "                                                 ('onehotencoder',\n",
       "                                                  OneHotEncoder(handle_unknown='ignore',\n",
       "                                                                sparse=False),\n",
       "                                                  <sklearn.compose._column_transformer.make_column_selector object at 0x000001869BC0E4C8>)])),\n",
       "                ('randomforestregressor', RandomForestRegressor())])"
      ]
     },
     "execution_count": 60,
     "metadata": {},
     "output_type": "execute_result"
    }
   ],
   "source": [
    "## Create an instance of the model\n",
    "ran_for = RandomForestRegressor()\n",
    "\n",
    "## Create a model pipeline\n",
    "ran_for_pipe = make_pipeline(preprocessor, ran_for)\n",
    "\n",
    "## Fit the model\n",
    "ran_for_pipe.fit(X_train, y_train)"
   ]
  },
  {
   "cell_type": "code",
   "execution_count": 61,
   "metadata": {
    "colab": {
     "base_uri": "https://localhost:8080/"
    },
    "executionInfo": {
     "elapsed": 4222,
     "status": "ok",
     "timestamp": 1675132925089,
     "user": {
      "displayName": "Yvon Bilodeau",
      "userId": "10142856831792134633"
     },
     "user_tz": 480
    },
    "id": "ihk-V4yn-cf2",
    "outputId": "9ee8706c-5fa2-4a2d-a999-aafb71db85cb"
   },
   "outputs": [
    {
     "name": "stdout",
     "output_type": "stream",
     "text": [
      "Random Forest Model Train Scores\n",
      "MAE: 296.4965 \n",
      "MSE: 183,061.2811 \n",
      "RMSE: 427.8566 \n",
      "R2: 0.9381\n",
      "\n",
      "Random Forest Model Test Scores\n",
      "MAE: 772.2054 \n",
      "MSE: 1,231,724.4589 \n",
      "RMSE: 1,109.8308 \n",
      "R2: 0.5536\n",
      "\n"
     ]
    }
   ],
   "source": [
    "## Display model performance metrics using a function\n",
    "model_metrics(ran_for_pipe, x_train=X_train, y_train=y_train, \n",
    "                          x_test=X_test, y_test=y_test, \n",
    "                           model_name='Random Forest Model')"
   ]
  },
  {
   "cell_type": "markdown",
   "metadata": {
    "id": "h8_f2YAQIAeo"
   },
   "source": [
    "## **Recommendations**"
   ]
  },
  {
   "cell_type": "markdown",
   "metadata": {
    "id": "a4nte53qA-3z"
   },
   "source": [
    "Now I have tried four (4) several different models on the data set. You now need to determine which model to implement.\n",
    "\n",
    "- Overall, which model do you recommend?\n",
    "- Justify your recommendation."
   ]
  },
  {
   "cell_type": "markdown",
   "metadata": {
    "id": "qZn0SOnjBC30"
   },
   "source": [
    "**Model recommended:** Random Forest\n",
    "\n",
    "- It had the lowest error scores for RMSE, and it had the hightest R2 on the Test dataset comparing linear, decision tree, bagged tree and random forest.\n",
    "\n",
    "**Random Forest Model Test Scores**\n",
    "- RMSE: 1109.6987 \n",
    "- R2: 0.5536\n"
   ]
  },
  {
   "cell_type": "code",
   "execution_count": null,
   "metadata": {},
   "outputs": [],
   "source": []
  }
 ],
 "metadata": {
  "colab": {
   "collapsed_sections": [
    "REsMVS9cJNXX",
    "szo2w00n-624"
   ],
   "provenance": [],
   "toc_visible": true
  },
  "kernelspec": {
   "display_name": "Python 3",
   "language": "python",
   "name": "python3"
  },
  "language_info": {
   "codemirror_mode": {
    "name": "ipython",
    "version": 3
   },
   "file_extension": ".py",
   "mimetype": "text/x-python",
   "name": "python",
   "nbconvert_exporter": "python",
   "pygments_lexer": "ipython3",
   "version": "3.7.6"
  }
 },
 "nbformat": 4,
 "nbformat_minor": 1
}
